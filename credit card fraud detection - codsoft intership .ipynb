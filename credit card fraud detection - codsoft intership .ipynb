{
 "cells": [
  {
   "cell_type": "markdown",
   "id": "9496e856",
   "metadata": {},
   "source": [
    "# CREDIT CARD FRAUD DETECTION\n",
    "\n",
    "#### By Tels Mariya Thomas "
   ]
  },
  {
   "cell_type": "markdown",
   "id": "b2c371a4",
   "metadata": {},
   "source": [
    "### Dataset link and description from kaggle"
   ]
  },
  {
   "cell_type": "markdown",
   "id": "7595bb62",
   "metadata": {},
   "source": [
    "https://www.kaggle.com/datasets/mlg-ulb/creditcardfraud"
   ]
  },
  {
   "cell_type": "markdown",
   "id": "c35f3fd0",
   "metadata": {},
   "source": [
    "Context\n",
    "It is important that credit card companies are able to recognize fraudulent credit card transactions so that customers are not charged for items that they did not purchase.\n",
    "\n",
    "Content\n",
    "The dataset contains transactions made by credit cards in September 2013 by European cardholders.\n",
    "This dataset presents transactions that occurred in two days, where we have 492 frauds out of 284,807 transactions. The dataset is highly unbalanced, the positive class (frauds) account for 0.172% of all transactions.\n",
    "\n",
    "It contains only numerical input variables which are the result of a PCA transformation. Unfortunately, due to confidentiality issues, we cannot provide the original features and more background information about the data. Features V1, V2, … V28 are the principal components obtained with PCA, the only features which have not been transformed with PCA are 'Time' and 'Amount'. Feature 'Time' contains the seconds elapsed between each transaction and the first transaction in the dataset. The feature 'Amount' is the transaction Amount, this feature can be used for example-dependant cost-sensitive learning. Feature 'Class' is the response variable and it takes value 1 in case of fraud and 0 otherwise.\n",
    "\n",
    "Given the class imbalance ratio, we recommend measuring the accuracy using the Area Under the Precision-Recall Curve (AUPRC). Confusion matrix accuracy is not meaningful for unbalanced classification.\n",
    "\n",
    "Update (03/05/2021)\n",
    "A simulator for transaction data has been released as part of the practical handbook on Machine Learning for Credit Card Fraud Detection - https://fraud-detection-handbook.github.io/fraud-detection-handbook/Chapter_3_GettingStarted/SimulatedDataset.html. We invite all practitioners interested in fraud detection datasets to also check out this data simulator, and the methodologies for credit card fraud detection presented in the book.\n",
    "\n",
    "Acknowledgements\n",
    "The dataset has been collected and analysed during a research collaboration of Worldline and the Machine Learning Group (http://mlg.ulb.ac.be) of ULB (Université Libre de Bruxelles) on big data mining and fraud detection.\n",
    "More details on current and past projects on related topics are available on https://www.researchgate.net/project/Fraud-detection-5 and the page of the DefeatFraud project\n",
    "\n"
   ]
  },
  {
   "cell_type": "markdown",
   "id": "92a7224a",
   "metadata": {},
   "source": [
    "### problem statement "
   ]
  },
  {
   "cell_type": "markdown",
   "id": "fedef8ca",
   "metadata": {},
   "source": [
    "CREDIT CARD FRAUD DETECTION\n",
    "\n",
    "\n",
    "Build a machine learning model to identify fraudulent credit card\n",
    "transactions.\n",
    "\n",
    "\n",
    "Preprocess and normalize the transaction data, handle class\n",
    "imbalance issues, and split the dataset into training and testing sets.\n",
    "\n",
    "\n",
    "Train a classification algorithm, such as logistic regression or random\n",
    "forests, to classify transactions as fraudulent or genuine.\n",
    "\n",
    "\n",
    "Evaluate the model's performance using metrics like precision, recall, and F1-score, and consider techniques like oversampling or undersampling for improving results."
   ]
  },
  {
   "cell_type": "code",
   "execution_count": 1,
   "id": "14f77915",
   "metadata": {},
   "outputs": [],
   "source": [
    "# import the librarires \n",
    "import numpy as np\n",
    "import pandas as pd \n",
    "import matplotlib.pyplot as plt\n",
    "import seaborn as sns"
   ]
  },
  {
   "cell_type": "markdown",
   "id": "aa04dc41",
   "metadata": {},
   "source": [
    "# load the data "
   ]
  },
  {
   "cell_type": "code",
   "execution_count": 2,
   "id": "3420f7e8",
   "metadata": {},
   "outputs": [],
   "source": [
    "# load the data \n",
    "data=pd.read_csv(r\"creditcard.csv\")"
   ]
  },
  {
   "cell_type": "code",
   "execution_count": 3,
   "id": "0c70ddc4",
   "metadata": {
    "scrolled": false
   },
   "outputs": [
    {
     "data": {
      "text/html": [
       "<div>\n",
       "<style scoped>\n",
       "    .dataframe tbody tr th:only-of-type {\n",
       "        vertical-align: middle;\n",
       "    }\n",
       "\n",
       "    .dataframe tbody tr th {\n",
       "        vertical-align: top;\n",
       "    }\n",
       "\n",
       "    .dataframe thead th {\n",
       "        text-align: right;\n",
       "    }\n",
       "</style>\n",
       "<table border=\"1\" class=\"dataframe\">\n",
       "  <thead>\n",
       "    <tr style=\"text-align: right;\">\n",
       "      <th></th>\n",
       "      <th>Time</th>\n",
       "      <th>V1</th>\n",
       "      <th>V2</th>\n",
       "      <th>V3</th>\n",
       "      <th>V4</th>\n",
       "      <th>V5</th>\n",
       "      <th>V6</th>\n",
       "      <th>V7</th>\n",
       "      <th>V8</th>\n",
       "      <th>V9</th>\n",
       "      <th>...</th>\n",
       "      <th>V21</th>\n",
       "      <th>V22</th>\n",
       "      <th>V23</th>\n",
       "      <th>V24</th>\n",
       "      <th>V25</th>\n",
       "      <th>V26</th>\n",
       "      <th>V27</th>\n",
       "      <th>V28</th>\n",
       "      <th>Amount</th>\n",
       "      <th>Class</th>\n",
       "    </tr>\n",
       "  </thead>\n",
       "  <tbody>\n",
       "    <tr>\n",
       "      <th>0</th>\n",
       "      <td>0.0</td>\n",
       "      <td>-1.359807</td>\n",
       "      <td>-0.072781</td>\n",
       "      <td>2.536347</td>\n",
       "      <td>1.378155</td>\n",
       "      <td>-0.338321</td>\n",
       "      <td>0.462388</td>\n",
       "      <td>0.239599</td>\n",
       "      <td>0.098698</td>\n",
       "      <td>0.363787</td>\n",
       "      <td>...</td>\n",
       "      <td>-0.018307</td>\n",
       "      <td>0.277838</td>\n",
       "      <td>-0.110474</td>\n",
       "      <td>0.066928</td>\n",
       "      <td>0.128539</td>\n",
       "      <td>-0.189115</td>\n",
       "      <td>0.133558</td>\n",
       "      <td>-0.021053</td>\n",
       "      <td>149.62</td>\n",
       "      <td>0</td>\n",
       "    </tr>\n",
       "    <tr>\n",
       "      <th>1</th>\n",
       "      <td>0.0</td>\n",
       "      <td>1.191857</td>\n",
       "      <td>0.266151</td>\n",
       "      <td>0.166480</td>\n",
       "      <td>0.448154</td>\n",
       "      <td>0.060018</td>\n",
       "      <td>-0.082361</td>\n",
       "      <td>-0.078803</td>\n",
       "      <td>0.085102</td>\n",
       "      <td>-0.255425</td>\n",
       "      <td>...</td>\n",
       "      <td>-0.225775</td>\n",
       "      <td>-0.638672</td>\n",
       "      <td>0.101288</td>\n",
       "      <td>-0.339846</td>\n",
       "      <td>0.167170</td>\n",
       "      <td>0.125895</td>\n",
       "      <td>-0.008983</td>\n",
       "      <td>0.014724</td>\n",
       "      <td>2.69</td>\n",
       "      <td>0</td>\n",
       "    </tr>\n",
       "    <tr>\n",
       "      <th>2</th>\n",
       "      <td>1.0</td>\n",
       "      <td>-1.358354</td>\n",
       "      <td>-1.340163</td>\n",
       "      <td>1.773209</td>\n",
       "      <td>0.379780</td>\n",
       "      <td>-0.503198</td>\n",
       "      <td>1.800499</td>\n",
       "      <td>0.791461</td>\n",
       "      <td>0.247676</td>\n",
       "      <td>-1.514654</td>\n",
       "      <td>...</td>\n",
       "      <td>0.247998</td>\n",
       "      <td>0.771679</td>\n",
       "      <td>0.909412</td>\n",
       "      <td>-0.689281</td>\n",
       "      <td>-0.327642</td>\n",
       "      <td>-0.139097</td>\n",
       "      <td>-0.055353</td>\n",
       "      <td>-0.059752</td>\n",
       "      <td>378.66</td>\n",
       "      <td>0</td>\n",
       "    </tr>\n",
       "    <tr>\n",
       "      <th>3</th>\n",
       "      <td>1.0</td>\n",
       "      <td>-0.966272</td>\n",
       "      <td>-0.185226</td>\n",
       "      <td>1.792993</td>\n",
       "      <td>-0.863291</td>\n",
       "      <td>-0.010309</td>\n",
       "      <td>1.247203</td>\n",
       "      <td>0.237609</td>\n",
       "      <td>0.377436</td>\n",
       "      <td>-1.387024</td>\n",
       "      <td>...</td>\n",
       "      <td>-0.108300</td>\n",
       "      <td>0.005274</td>\n",
       "      <td>-0.190321</td>\n",
       "      <td>-1.175575</td>\n",
       "      <td>0.647376</td>\n",
       "      <td>-0.221929</td>\n",
       "      <td>0.062723</td>\n",
       "      <td>0.061458</td>\n",
       "      <td>123.50</td>\n",
       "      <td>0</td>\n",
       "    </tr>\n",
       "    <tr>\n",
       "      <th>4</th>\n",
       "      <td>2.0</td>\n",
       "      <td>-1.158233</td>\n",
       "      <td>0.877737</td>\n",
       "      <td>1.548718</td>\n",
       "      <td>0.403034</td>\n",
       "      <td>-0.407193</td>\n",
       "      <td>0.095921</td>\n",
       "      <td>0.592941</td>\n",
       "      <td>-0.270533</td>\n",
       "      <td>0.817739</td>\n",
       "      <td>...</td>\n",
       "      <td>-0.009431</td>\n",
       "      <td>0.798278</td>\n",
       "      <td>-0.137458</td>\n",
       "      <td>0.141267</td>\n",
       "      <td>-0.206010</td>\n",
       "      <td>0.502292</td>\n",
       "      <td>0.219422</td>\n",
       "      <td>0.215153</td>\n",
       "      <td>69.99</td>\n",
       "      <td>0</td>\n",
       "    </tr>\n",
       "    <tr>\n",
       "      <th>...</th>\n",
       "      <td>...</td>\n",
       "      <td>...</td>\n",
       "      <td>...</td>\n",
       "      <td>...</td>\n",
       "      <td>...</td>\n",
       "      <td>...</td>\n",
       "      <td>...</td>\n",
       "      <td>...</td>\n",
       "      <td>...</td>\n",
       "      <td>...</td>\n",
       "      <td>...</td>\n",
       "      <td>...</td>\n",
       "      <td>...</td>\n",
       "      <td>...</td>\n",
       "      <td>...</td>\n",
       "      <td>...</td>\n",
       "      <td>...</td>\n",
       "      <td>...</td>\n",
       "      <td>...</td>\n",
       "      <td>...</td>\n",
       "      <td>...</td>\n",
       "    </tr>\n",
       "    <tr>\n",
       "      <th>284802</th>\n",
       "      <td>172786.0</td>\n",
       "      <td>-11.881118</td>\n",
       "      <td>10.071785</td>\n",
       "      <td>-9.834783</td>\n",
       "      <td>-2.066656</td>\n",
       "      <td>-5.364473</td>\n",
       "      <td>-2.606837</td>\n",
       "      <td>-4.918215</td>\n",
       "      <td>7.305334</td>\n",
       "      <td>1.914428</td>\n",
       "      <td>...</td>\n",
       "      <td>0.213454</td>\n",
       "      <td>0.111864</td>\n",
       "      <td>1.014480</td>\n",
       "      <td>-0.509348</td>\n",
       "      <td>1.436807</td>\n",
       "      <td>0.250034</td>\n",
       "      <td>0.943651</td>\n",
       "      <td>0.823731</td>\n",
       "      <td>0.77</td>\n",
       "      <td>0</td>\n",
       "    </tr>\n",
       "    <tr>\n",
       "      <th>284803</th>\n",
       "      <td>172787.0</td>\n",
       "      <td>-0.732789</td>\n",
       "      <td>-0.055080</td>\n",
       "      <td>2.035030</td>\n",
       "      <td>-0.738589</td>\n",
       "      <td>0.868229</td>\n",
       "      <td>1.058415</td>\n",
       "      <td>0.024330</td>\n",
       "      <td>0.294869</td>\n",
       "      <td>0.584800</td>\n",
       "      <td>...</td>\n",
       "      <td>0.214205</td>\n",
       "      <td>0.924384</td>\n",
       "      <td>0.012463</td>\n",
       "      <td>-1.016226</td>\n",
       "      <td>-0.606624</td>\n",
       "      <td>-0.395255</td>\n",
       "      <td>0.068472</td>\n",
       "      <td>-0.053527</td>\n",
       "      <td>24.79</td>\n",
       "      <td>0</td>\n",
       "    </tr>\n",
       "    <tr>\n",
       "      <th>284804</th>\n",
       "      <td>172788.0</td>\n",
       "      <td>1.919565</td>\n",
       "      <td>-0.301254</td>\n",
       "      <td>-3.249640</td>\n",
       "      <td>-0.557828</td>\n",
       "      <td>2.630515</td>\n",
       "      <td>3.031260</td>\n",
       "      <td>-0.296827</td>\n",
       "      <td>0.708417</td>\n",
       "      <td>0.432454</td>\n",
       "      <td>...</td>\n",
       "      <td>0.232045</td>\n",
       "      <td>0.578229</td>\n",
       "      <td>-0.037501</td>\n",
       "      <td>0.640134</td>\n",
       "      <td>0.265745</td>\n",
       "      <td>-0.087371</td>\n",
       "      <td>0.004455</td>\n",
       "      <td>-0.026561</td>\n",
       "      <td>67.88</td>\n",
       "      <td>0</td>\n",
       "    </tr>\n",
       "    <tr>\n",
       "      <th>284805</th>\n",
       "      <td>172788.0</td>\n",
       "      <td>-0.240440</td>\n",
       "      <td>0.530483</td>\n",
       "      <td>0.702510</td>\n",
       "      <td>0.689799</td>\n",
       "      <td>-0.377961</td>\n",
       "      <td>0.623708</td>\n",
       "      <td>-0.686180</td>\n",
       "      <td>0.679145</td>\n",
       "      <td>0.392087</td>\n",
       "      <td>...</td>\n",
       "      <td>0.265245</td>\n",
       "      <td>0.800049</td>\n",
       "      <td>-0.163298</td>\n",
       "      <td>0.123205</td>\n",
       "      <td>-0.569159</td>\n",
       "      <td>0.546668</td>\n",
       "      <td>0.108821</td>\n",
       "      <td>0.104533</td>\n",
       "      <td>10.00</td>\n",
       "      <td>0</td>\n",
       "    </tr>\n",
       "    <tr>\n",
       "      <th>284806</th>\n",
       "      <td>172792.0</td>\n",
       "      <td>-0.533413</td>\n",
       "      <td>-0.189733</td>\n",
       "      <td>0.703337</td>\n",
       "      <td>-0.506271</td>\n",
       "      <td>-0.012546</td>\n",
       "      <td>-0.649617</td>\n",
       "      <td>1.577006</td>\n",
       "      <td>-0.414650</td>\n",
       "      <td>0.486180</td>\n",
       "      <td>...</td>\n",
       "      <td>0.261057</td>\n",
       "      <td>0.643078</td>\n",
       "      <td>0.376777</td>\n",
       "      <td>0.008797</td>\n",
       "      <td>-0.473649</td>\n",
       "      <td>-0.818267</td>\n",
       "      <td>-0.002415</td>\n",
       "      <td>0.013649</td>\n",
       "      <td>217.00</td>\n",
       "      <td>0</td>\n",
       "    </tr>\n",
       "  </tbody>\n",
       "</table>\n",
       "<p>284807 rows × 31 columns</p>\n",
       "</div>"
      ],
      "text/plain": [
       "            Time         V1         V2        V3        V4        V5  \\\n",
       "0            0.0  -1.359807  -0.072781  2.536347  1.378155 -0.338321   \n",
       "1            0.0   1.191857   0.266151  0.166480  0.448154  0.060018   \n",
       "2            1.0  -1.358354  -1.340163  1.773209  0.379780 -0.503198   \n",
       "3            1.0  -0.966272  -0.185226  1.792993 -0.863291 -0.010309   \n",
       "4            2.0  -1.158233   0.877737  1.548718  0.403034 -0.407193   \n",
       "...          ...        ...        ...       ...       ...       ...   \n",
       "284802  172786.0 -11.881118  10.071785 -9.834783 -2.066656 -5.364473   \n",
       "284803  172787.0  -0.732789  -0.055080  2.035030 -0.738589  0.868229   \n",
       "284804  172788.0   1.919565  -0.301254 -3.249640 -0.557828  2.630515   \n",
       "284805  172788.0  -0.240440   0.530483  0.702510  0.689799 -0.377961   \n",
       "284806  172792.0  -0.533413  -0.189733  0.703337 -0.506271 -0.012546   \n",
       "\n",
       "              V6        V7        V8        V9  ...       V21       V22  \\\n",
       "0       0.462388  0.239599  0.098698  0.363787  ... -0.018307  0.277838   \n",
       "1      -0.082361 -0.078803  0.085102 -0.255425  ... -0.225775 -0.638672   \n",
       "2       1.800499  0.791461  0.247676 -1.514654  ...  0.247998  0.771679   \n",
       "3       1.247203  0.237609  0.377436 -1.387024  ... -0.108300  0.005274   \n",
       "4       0.095921  0.592941 -0.270533  0.817739  ... -0.009431  0.798278   \n",
       "...          ...       ...       ...       ...  ...       ...       ...   \n",
       "284802 -2.606837 -4.918215  7.305334  1.914428  ...  0.213454  0.111864   \n",
       "284803  1.058415  0.024330  0.294869  0.584800  ...  0.214205  0.924384   \n",
       "284804  3.031260 -0.296827  0.708417  0.432454  ...  0.232045  0.578229   \n",
       "284805  0.623708 -0.686180  0.679145  0.392087  ...  0.265245  0.800049   \n",
       "284806 -0.649617  1.577006 -0.414650  0.486180  ...  0.261057  0.643078   \n",
       "\n",
       "             V23       V24       V25       V26       V27       V28  Amount  \\\n",
       "0      -0.110474  0.066928  0.128539 -0.189115  0.133558 -0.021053  149.62   \n",
       "1       0.101288 -0.339846  0.167170  0.125895 -0.008983  0.014724    2.69   \n",
       "2       0.909412 -0.689281 -0.327642 -0.139097 -0.055353 -0.059752  378.66   \n",
       "3      -0.190321 -1.175575  0.647376 -0.221929  0.062723  0.061458  123.50   \n",
       "4      -0.137458  0.141267 -0.206010  0.502292  0.219422  0.215153   69.99   \n",
       "...          ...       ...       ...       ...       ...       ...     ...   \n",
       "284802  1.014480 -0.509348  1.436807  0.250034  0.943651  0.823731    0.77   \n",
       "284803  0.012463 -1.016226 -0.606624 -0.395255  0.068472 -0.053527   24.79   \n",
       "284804 -0.037501  0.640134  0.265745 -0.087371  0.004455 -0.026561   67.88   \n",
       "284805 -0.163298  0.123205 -0.569159  0.546668  0.108821  0.104533   10.00   \n",
       "284806  0.376777  0.008797 -0.473649 -0.818267 -0.002415  0.013649  217.00   \n",
       "\n",
       "        Class  \n",
       "0           0  \n",
       "1           0  \n",
       "2           0  \n",
       "3           0  \n",
       "4           0  \n",
       "...       ...  \n",
       "284802      0  \n",
       "284803      0  \n",
       "284804      0  \n",
       "284805      0  \n",
       "284806      0  \n",
       "\n",
       "[284807 rows x 31 columns]"
      ]
     },
     "execution_count": 3,
     "metadata": {},
     "output_type": "execute_result"
    }
   ],
   "source": [
    "data"
   ]
  },
  {
   "cell_type": "code",
   "execution_count": 4,
   "id": "3fbf5150",
   "metadata": {
    "scrolled": true
   },
   "outputs": [
    {
     "data": {
      "text/plain": [
       "(284807, 31)"
      ]
     },
     "execution_count": 4,
     "metadata": {},
     "output_type": "execute_result"
    }
   ],
   "source": [
    "# get the shape of the original data \n",
    "data.shape"
   ]
  },
  {
   "cell_type": "code",
   "execution_count": 5,
   "id": "f54afea6",
   "metadata": {},
   "outputs": [],
   "source": [
    "# the data has 234801 entreis with 31 columns "
   ]
  },
  {
   "cell_type": "code",
   "execution_count": 6,
   "id": "fd51015c",
   "metadata": {
    "scrolled": false
   },
   "outputs": [
    {
     "data": {
      "text/plain": [
       "Time      0\n",
       "V1        0\n",
       "V2        0\n",
       "V3        0\n",
       "V4        0\n",
       "V5        0\n",
       "V6        0\n",
       "V7        0\n",
       "V8        0\n",
       "V9        0\n",
       "V10       0\n",
       "V11       0\n",
       "V12       0\n",
       "V13       0\n",
       "V14       0\n",
       "V15       0\n",
       "V16       0\n",
       "V17       0\n",
       "V18       0\n",
       "V19       0\n",
       "V20       0\n",
       "V21       0\n",
       "V22       0\n",
       "V23       0\n",
       "V24       0\n",
       "V25       0\n",
       "V26       0\n",
       "V27       0\n",
       "V28       0\n",
       "Amount    0\n",
       "Class     0\n",
       "dtype: int64"
      ]
     },
     "execution_count": 6,
     "metadata": {},
     "output_type": "execute_result"
    }
   ],
   "source": [
    "# checking for null values \n",
    "data.isnull().sum()"
   ]
  },
  {
   "cell_type": "code",
   "execution_count": null,
   "id": "e26de39d",
   "metadata": {},
   "outputs": [],
   "source": [
    "# no null values in the dataset"
   ]
  },
  {
   "cell_type": "code",
   "execution_count": 5,
   "id": "deb9382d",
   "metadata": {
    "scrolled": true
   },
   "outputs": [
    {
     "data": {
      "text/plain": [
       "1081"
      ]
     },
     "execution_count": 5,
     "metadata": {},
     "output_type": "execute_result"
    }
   ],
   "source": [
    "# checking for duplicates \n",
    "data.duplicated().sum()"
   ]
  },
  {
   "cell_type": "code",
   "execution_count": 7,
   "id": "4767265b",
   "metadata": {},
   "outputs": [],
   "source": [
    "# there are 1081 duplicates which can be dropped"
   ]
  },
  {
   "cell_type": "code",
   "execution_count": 6,
   "id": "585501bc",
   "metadata": {},
   "outputs": [],
   "source": [
    "# drop the duplicates\n",
    "data1=data.drop_duplicates()"
   ]
  },
  {
   "cell_type": "code",
   "execution_count": 7,
   "id": "f3122361",
   "metadata": {
    "scrolled": true
   },
   "outputs": [
    {
     "data": {
      "text/plain": [
       "(283726, 31)"
      ]
     },
     "execution_count": 7,
     "metadata": {},
     "output_type": "execute_result"
    }
   ],
   "source": [
    "# get the shape of the data after dropping the duplicates \n",
    "data1.shape"
   ]
  },
  {
   "cell_type": "code",
   "execution_count": null,
   "id": "528316a6",
   "metadata": {},
   "outputs": [],
   "source": [
    "# after dropping the duplicates we have 282726 rentries in 31 columns. "
   ]
  },
  {
   "cell_type": "code",
   "execution_count": 10,
   "id": "f4adf597",
   "metadata": {
    "scrolled": false
   },
   "outputs": [
    {
     "name": "stdout",
     "output_type": "stream",
     "text": [
      "<class 'pandas.core.frame.DataFrame'>\n",
      "Int64Index: 283726 entries, 0 to 284806\n",
      "Data columns (total 31 columns):\n",
      " #   Column  Non-Null Count   Dtype  \n",
      "---  ------  --------------   -----  \n",
      " 0   Time    283726 non-null  float64\n",
      " 1   V1      283726 non-null  float64\n",
      " 2   V2      283726 non-null  float64\n",
      " 3   V3      283726 non-null  float64\n",
      " 4   V4      283726 non-null  float64\n",
      " 5   V5      283726 non-null  float64\n",
      " 6   V6      283726 non-null  float64\n",
      " 7   V7      283726 non-null  float64\n",
      " 8   V8      283726 non-null  float64\n",
      " 9   V9      283726 non-null  float64\n",
      " 10  V10     283726 non-null  float64\n",
      " 11  V11     283726 non-null  float64\n",
      " 12  V12     283726 non-null  float64\n",
      " 13  V13     283726 non-null  float64\n",
      " 14  V14     283726 non-null  float64\n",
      " 15  V15     283726 non-null  float64\n",
      " 16  V16     283726 non-null  float64\n",
      " 17  V17     283726 non-null  float64\n",
      " 18  V18     283726 non-null  float64\n",
      " 19  V19     283726 non-null  float64\n",
      " 20  V20     283726 non-null  float64\n",
      " 21  V21     283726 non-null  float64\n",
      " 22  V22     283726 non-null  float64\n",
      " 23  V23     283726 non-null  float64\n",
      " 24  V24     283726 non-null  float64\n",
      " 25  V25     283726 non-null  float64\n",
      " 26  V26     283726 non-null  float64\n",
      " 27  V27     283726 non-null  float64\n",
      " 28  V28     283726 non-null  float64\n",
      " 29  Amount  283726 non-null  float64\n",
      " 30  Class   283726 non-null  int64  \n",
      "dtypes: float64(30), int64(1)\n",
      "memory usage: 69.3 MB\n"
     ]
    }
   ],
   "source": [
    "# get the information about the data \n",
    "data1.info()"
   ]
  },
  {
   "cell_type": "code",
   "execution_count": null,
   "id": "acb9d654",
   "metadata": {},
   "outputs": [],
   "source": [
    "# all the columns are numerical which are actually transformed with pca. "
   ]
  },
  {
   "cell_type": "code",
   "execution_count": 12,
   "id": "619da160",
   "metadata": {},
   "outputs": [
    {
     "data": {
      "text/html": [
       "<div>\n",
       "<style scoped>\n",
       "    .dataframe tbody tr th:only-of-type {\n",
       "        vertical-align: middle;\n",
       "    }\n",
       "\n",
       "    .dataframe tbody tr th {\n",
       "        vertical-align: top;\n",
       "    }\n",
       "\n",
       "    .dataframe thead th {\n",
       "        text-align: right;\n",
       "    }\n",
       "</style>\n",
       "<table border=\"1\" class=\"dataframe\">\n",
       "  <thead>\n",
       "    <tr style=\"text-align: right;\">\n",
       "      <th></th>\n",
       "      <th>count</th>\n",
       "      <th>mean</th>\n",
       "      <th>std</th>\n",
       "      <th>min</th>\n",
       "      <th>25%</th>\n",
       "      <th>50%</th>\n",
       "      <th>75%</th>\n",
       "      <th>max</th>\n",
       "    </tr>\n",
       "  </thead>\n",
       "  <tbody>\n",
       "    <tr>\n",
       "      <th>Time</th>\n",
       "      <td>283726.0</td>\n",
       "      <td>94811.077600</td>\n",
       "      <td>47481.047891</td>\n",
       "      <td>0.000000</td>\n",
       "      <td>54204.750000</td>\n",
       "      <td>84692.500000</td>\n",
       "      <td>139298.000000</td>\n",
       "      <td>172792.000000</td>\n",
       "    </tr>\n",
       "    <tr>\n",
       "      <th>V1</th>\n",
       "      <td>283726.0</td>\n",
       "      <td>0.005917</td>\n",
       "      <td>1.948026</td>\n",
       "      <td>-56.407510</td>\n",
       "      <td>-0.915951</td>\n",
       "      <td>0.020384</td>\n",
       "      <td>1.316068</td>\n",
       "      <td>2.454930</td>\n",
       "    </tr>\n",
       "    <tr>\n",
       "      <th>V2</th>\n",
       "      <td>283726.0</td>\n",
       "      <td>-0.004135</td>\n",
       "      <td>1.646703</td>\n",
       "      <td>-72.715728</td>\n",
       "      <td>-0.600321</td>\n",
       "      <td>0.063949</td>\n",
       "      <td>0.800283</td>\n",
       "      <td>22.057729</td>\n",
       "    </tr>\n",
       "    <tr>\n",
       "      <th>V3</th>\n",
       "      <td>283726.0</td>\n",
       "      <td>0.001613</td>\n",
       "      <td>1.508682</td>\n",
       "      <td>-48.325589</td>\n",
       "      <td>-0.889682</td>\n",
       "      <td>0.179963</td>\n",
       "      <td>1.026960</td>\n",
       "      <td>9.382558</td>\n",
       "    </tr>\n",
       "    <tr>\n",
       "      <th>V4</th>\n",
       "      <td>283726.0</td>\n",
       "      <td>-0.002966</td>\n",
       "      <td>1.414184</td>\n",
       "      <td>-5.683171</td>\n",
       "      <td>-0.850134</td>\n",
       "      <td>-0.022248</td>\n",
       "      <td>0.739647</td>\n",
       "      <td>16.875344</td>\n",
       "    </tr>\n",
       "    <tr>\n",
       "      <th>V5</th>\n",
       "      <td>283726.0</td>\n",
       "      <td>0.001828</td>\n",
       "      <td>1.377008</td>\n",
       "      <td>-113.743307</td>\n",
       "      <td>-0.689830</td>\n",
       "      <td>-0.053468</td>\n",
       "      <td>0.612218</td>\n",
       "      <td>34.801666</td>\n",
       "    </tr>\n",
       "    <tr>\n",
       "      <th>V6</th>\n",
       "      <td>283726.0</td>\n",
       "      <td>-0.001139</td>\n",
       "      <td>1.331931</td>\n",
       "      <td>-26.160506</td>\n",
       "      <td>-0.769031</td>\n",
       "      <td>-0.275168</td>\n",
       "      <td>0.396792</td>\n",
       "      <td>73.301626</td>\n",
       "    </tr>\n",
       "    <tr>\n",
       "      <th>V7</th>\n",
       "      <td>283726.0</td>\n",
       "      <td>0.001801</td>\n",
       "      <td>1.227664</td>\n",
       "      <td>-43.557242</td>\n",
       "      <td>-0.552509</td>\n",
       "      <td>0.040859</td>\n",
       "      <td>0.570474</td>\n",
       "      <td>120.589494</td>\n",
       "    </tr>\n",
       "    <tr>\n",
       "      <th>V8</th>\n",
       "      <td>283726.0</td>\n",
       "      <td>-0.000854</td>\n",
       "      <td>1.179054</td>\n",
       "      <td>-73.216718</td>\n",
       "      <td>-0.208828</td>\n",
       "      <td>0.021898</td>\n",
       "      <td>0.325704</td>\n",
       "      <td>20.007208</td>\n",
       "    </tr>\n",
       "    <tr>\n",
       "      <th>V9</th>\n",
       "      <td>283726.0</td>\n",
       "      <td>-0.001596</td>\n",
       "      <td>1.095492</td>\n",
       "      <td>-13.434066</td>\n",
       "      <td>-0.644221</td>\n",
       "      <td>-0.052596</td>\n",
       "      <td>0.595977</td>\n",
       "      <td>15.594995</td>\n",
       "    </tr>\n",
       "    <tr>\n",
       "      <th>V10</th>\n",
       "      <td>283726.0</td>\n",
       "      <td>-0.001441</td>\n",
       "      <td>1.076407</td>\n",
       "      <td>-24.588262</td>\n",
       "      <td>-0.535578</td>\n",
       "      <td>-0.093237</td>\n",
       "      <td>0.453619</td>\n",
       "      <td>23.745136</td>\n",
       "    </tr>\n",
       "    <tr>\n",
       "      <th>V11</th>\n",
       "      <td>283726.0</td>\n",
       "      <td>0.000202</td>\n",
       "      <td>1.018720</td>\n",
       "      <td>-4.797473</td>\n",
       "      <td>-0.761649</td>\n",
       "      <td>-0.032306</td>\n",
       "      <td>0.739579</td>\n",
       "      <td>12.018913</td>\n",
       "    </tr>\n",
       "    <tr>\n",
       "      <th>V12</th>\n",
       "      <td>283726.0</td>\n",
       "      <td>-0.000715</td>\n",
       "      <td>0.994674</td>\n",
       "      <td>-18.683715</td>\n",
       "      <td>-0.406198</td>\n",
       "      <td>0.139072</td>\n",
       "      <td>0.616976</td>\n",
       "      <td>7.848392</td>\n",
       "    </tr>\n",
       "    <tr>\n",
       "      <th>V13</th>\n",
       "      <td>283726.0</td>\n",
       "      <td>0.000603</td>\n",
       "      <td>0.995430</td>\n",
       "      <td>-5.791881</td>\n",
       "      <td>-0.647862</td>\n",
       "      <td>-0.012927</td>\n",
       "      <td>0.663178</td>\n",
       "      <td>7.126883</td>\n",
       "    </tr>\n",
       "    <tr>\n",
       "      <th>V14</th>\n",
       "      <td>283726.0</td>\n",
       "      <td>0.000252</td>\n",
       "      <td>0.952215</td>\n",
       "      <td>-19.214325</td>\n",
       "      <td>-0.425732</td>\n",
       "      <td>0.050209</td>\n",
       "      <td>0.492336</td>\n",
       "      <td>10.526766</td>\n",
       "    </tr>\n",
       "    <tr>\n",
       "      <th>V15</th>\n",
       "      <td>283726.0</td>\n",
       "      <td>0.001043</td>\n",
       "      <td>0.914894</td>\n",
       "      <td>-4.498945</td>\n",
       "      <td>-0.581452</td>\n",
       "      <td>0.049299</td>\n",
       "      <td>0.650104</td>\n",
       "      <td>8.877742</td>\n",
       "    </tr>\n",
       "    <tr>\n",
       "      <th>V16</th>\n",
       "      <td>283726.0</td>\n",
       "      <td>0.001162</td>\n",
       "      <td>0.873696</td>\n",
       "      <td>-14.129855</td>\n",
       "      <td>-0.466860</td>\n",
       "      <td>0.067119</td>\n",
       "      <td>0.523512</td>\n",
       "      <td>17.315112</td>\n",
       "    </tr>\n",
       "    <tr>\n",
       "      <th>V17</th>\n",
       "      <td>283726.0</td>\n",
       "      <td>0.000170</td>\n",
       "      <td>0.842507</td>\n",
       "      <td>-25.162799</td>\n",
       "      <td>-0.483928</td>\n",
       "      <td>-0.065867</td>\n",
       "      <td>0.398972</td>\n",
       "      <td>9.253526</td>\n",
       "    </tr>\n",
       "    <tr>\n",
       "      <th>V18</th>\n",
       "      <td>283726.0</td>\n",
       "      <td>0.001515</td>\n",
       "      <td>0.837378</td>\n",
       "      <td>-9.498746</td>\n",
       "      <td>-0.498014</td>\n",
       "      <td>-0.002142</td>\n",
       "      <td>0.501956</td>\n",
       "      <td>5.041069</td>\n",
       "    </tr>\n",
       "    <tr>\n",
       "      <th>V19</th>\n",
       "      <td>283726.0</td>\n",
       "      <td>-0.000264</td>\n",
       "      <td>0.813379</td>\n",
       "      <td>-7.213527</td>\n",
       "      <td>-0.456289</td>\n",
       "      <td>0.003367</td>\n",
       "      <td>0.458508</td>\n",
       "      <td>5.591971</td>\n",
       "    </tr>\n",
       "    <tr>\n",
       "      <th>V20</th>\n",
       "      <td>283726.0</td>\n",
       "      <td>0.000187</td>\n",
       "      <td>0.769984</td>\n",
       "      <td>-54.497720</td>\n",
       "      <td>-0.211469</td>\n",
       "      <td>-0.062353</td>\n",
       "      <td>0.133207</td>\n",
       "      <td>39.420904</td>\n",
       "    </tr>\n",
       "    <tr>\n",
       "      <th>V21</th>\n",
       "      <td>283726.0</td>\n",
       "      <td>-0.000371</td>\n",
       "      <td>0.723909</td>\n",
       "      <td>-34.830382</td>\n",
       "      <td>-0.228305</td>\n",
       "      <td>-0.029441</td>\n",
       "      <td>0.186194</td>\n",
       "      <td>27.202839</td>\n",
       "    </tr>\n",
       "    <tr>\n",
       "      <th>V22</th>\n",
       "      <td>283726.0</td>\n",
       "      <td>-0.000015</td>\n",
       "      <td>0.724550</td>\n",
       "      <td>-10.933144</td>\n",
       "      <td>-0.542700</td>\n",
       "      <td>0.006675</td>\n",
       "      <td>0.528245</td>\n",
       "      <td>10.503090</td>\n",
       "    </tr>\n",
       "    <tr>\n",
       "      <th>V23</th>\n",
       "      <td>283726.0</td>\n",
       "      <td>0.000198</td>\n",
       "      <td>0.623702</td>\n",
       "      <td>-44.807735</td>\n",
       "      <td>-0.161703</td>\n",
       "      <td>-0.011159</td>\n",
       "      <td>0.147748</td>\n",
       "      <td>22.528412</td>\n",
       "    </tr>\n",
       "    <tr>\n",
       "      <th>V24</th>\n",
       "      <td>283726.0</td>\n",
       "      <td>0.000214</td>\n",
       "      <td>0.605627</td>\n",
       "      <td>-2.836627</td>\n",
       "      <td>-0.354453</td>\n",
       "      <td>0.041016</td>\n",
       "      <td>0.439738</td>\n",
       "      <td>4.584549</td>\n",
       "    </tr>\n",
       "    <tr>\n",
       "      <th>V25</th>\n",
       "      <td>283726.0</td>\n",
       "      <td>-0.000232</td>\n",
       "      <td>0.521220</td>\n",
       "      <td>-10.295397</td>\n",
       "      <td>-0.317485</td>\n",
       "      <td>0.016278</td>\n",
       "      <td>0.350667</td>\n",
       "      <td>7.519589</td>\n",
       "    </tr>\n",
       "    <tr>\n",
       "      <th>V26</th>\n",
       "      <td>283726.0</td>\n",
       "      <td>0.000149</td>\n",
       "      <td>0.482053</td>\n",
       "      <td>-2.604551</td>\n",
       "      <td>-0.326763</td>\n",
       "      <td>-0.052172</td>\n",
       "      <td>0.240261</td>\n",
       "      <td>3.517346</td>\n",
       "    </tr>\n",
       "    <tr>\n",
       "      <th>V27</th>\n",
       "      <td>283726.0</td>\n",
       "      <td>0.001763</td>\n",
       "      <td>0.395744</td>\n",
       "      <td>-22.565679</td>\n",
       "      <td>-0.070641</td>\n",
       "      <td>0.001479</td>\n",
       "      <td>0.091208</td>\n",
       "      <td>31.612198</td>\n",
       "    </tr>\n",
       "    <tr>\n",
       "      <th>V28</th>\n",
       "      <td>283726.0</td>\n",
       "      <td>0.000547</td>\n",
       "      <td>0.328027</td>\n",
       "      <td>-15.430084</td>\n",
       "      <td>-0.052818</td>\n",
       "      <td>0.011288</td>\n",
       "      <td>0.078276</td>\n",
       "      <td>33.847808</td>\n",
       "    </tr>\n",
       "    <tr>\n",
       "      <th>Amount</th>\n",
       "      <td>283726.0</td>\n",
       "      <td>88.472687</td>\n",
       "      <td>250.399437</td>\n",
       "      <td>0.000000</td>\n",
       "      <td>5.600000</td>\n",
       "      <td>22.000000</td>\n",
       "      <td>77.510000</td>\n",
       "      <td>25691.160000</td>\n",
       "    </tr>\n",
       "    <tr>\n",
       "      <th>Class</th>\n",
       "      <td>283726.0</td>\n",
       "      <td>0.001667</td>\n",
       "      <td>0.040796</td>\n",
       "      <td>0.000000</td>\n",
       "      <td>0.000000</td>\n",
       "      <td>0.000000</td>\n",
       "      <td>0.000000</td>\n",
       "      <td>1.000000</td>\n",
       "    </tr>\n",
       "  </tbody>\n",
       "</table>\n",
       "</div>"
      ],
      "text/plain": [
       "           count          mean           std         min           25%  \\\n",
       "Time    283726.0  94811.077600  47481.047891    0.000000  54204.750000   \n",
       "V1      283726.0      0.005917      1.948026  -56.407510     -0.915951   \n",
       "V2      283726.0     -0.004135      1.646703  -72.715728     -0.600321   \n",
       "V3      283726.0      0.001613      1.508682  -48.325589     -0.889682   \n",
       "V4      283726.0     -0.002966      1.414184   -5.683171     -0.850134   \n",
       "V5      283726.0      0.001828      1.377008 -113.743307     -0.689830   \n",
       "V6      283726.0     -0.001139      1.331931  -26.160506     -0.769031   \n",
       "V7      283726.0      0.001801      1.227664  -43.557242     -0.552509   \n",
       "V8      283726.0     -0.000854      1.179054  -73.216718     -0.208828   \n",
       "V9      283726.0     -0.001596      1.095492  -13.434066     -0.644221   \n",
       "V10     283726.0     -0.001441      1.076407  -24.588262     -0.535578   \n",
       "V11     283726.0      0.000202      1.018720   -4.797473     -0.761649   \n",
       "V12     283726.0     -0.000715      0.994674  -18.683715     -0.406198   \n",
       "V13     283726.0      0.000603      0.995430   -5.791881     -0.647862   \n",
       "V14     283726.0      0.000252      0.952215  -19.214325     -0.425732   \n",
       "V15     283726.0      0.001043      0.914894   -4.498945     -0.581452   \n",
       "V16     283726.0      0.001162      0.873696  -14.129855     -0.466860   \n",
       "V17     283726.0      0.000170      0.842507  -25.162799     -0.483928   \n",
       "V18     283726.0      0.001515      0.837378   -9.498746     -0.498014   \n",
       "V19     283726.0     -0.000264      0.813379   -7.213527     -0.456289   \n",
       "V20     283726.0      0.000187      0.769984  -54.497720     -0.211469   \n",
       "V21     283726.0     -0.000371      0.723909  -34.830382     -0.228305   \n",
       "V22     283726.0     -0.000015      0.724550  -10.933144     -0.542700   \n",
       "V23     283726.0      0.000198      0.623702  -44.807735     -0.161703   \n",
       "V24     283726.0      0.000214      0.605627   -2.836627     -0.354453   \n",
       "V25     283726.0     -0.000232      0.521220  -10.295397     -0.317485   \n",
       "V26     283726.0      0.000149      0.482053   -2.604551     -0.326763   \n",
       "V27     283726.0      0.001763      0.395744  -22.565679     -0.070641   \n",
       "V28     283726.0      0.000547      0.328027  -15.430084     -0.052818   \n",
       "Amount  283726.0     88.472687    250.399437    0.000000      5.600000   \n",
       "Class   283726.0      0.001667      0.040796    0.000000      0.000000   \n",
       "\n",
       "                 50%            75%            max  \n",
       "Time    84692.500000  139298.000000  172792.000000  \n",
       "V1          0.020384       1.316068       2.454930  \n",
       "V2          0.063949       0.800283      22.057729  \n",
       "V3          0.179963       1.026960       9.382558  \n",
       "V4         -0.022248       0.739647      16.875344  \n",
       "V5         -0.053468       0.612218      34.801666  \n",
       "V6         -0.275168       0.396792      73.301626  \n",
       "V7          0.040859       0.570474     120.589494  \n",
       "V8          0.021898       0.325704      20.007208  \n",
       "V9         -0.052596       0.595977      15.594995  \n",
       "V10        -0.093237       0.453619      23.745136  \n",
       "V11        -0.032306       0.739579      12.018913  \n",
       "V12         0.139072       0.616976       7.848392  \n",
       "V13        -0.012927       0.663178       7.126883  \n",
       "V14         0.050209       0.492336      10.526766  \n",
       "V15         0.049299       0.650104       8.877742  \n",
       "V16         0.067119       0.523512      17.315112  \n",
       "V17        -0.065867       0.398972       9.253526  \n",
       "V18        -0.002142       0.501956       5.041069  \n",
       "V19         0.003367       0.458508       5.591971  \n",
       "V20        -0.062353       0.133207      39.420904  \n",
       "V21        -0.029441       0.186194      27.202839  \n",
       "V22         0.006675       0.528245      10.503090  \n",
       "V23        -0.011159       0.147748      22.528412  \n",
       "V24         0.041016       0.439738       4.584549  \n",
       "V25         0.016278       0.350667       7.519589  \n",
       "V26        -0.052172       0.240261       3.517346  \n",
       "V27         0.001479       0.091208      31.612198  \n",
       "V28         0.011288       0.078276      33.847808  \n",
       "Amount     22.000000      77.510000   25691.160000  \n",
       "Class       0.000000       0.000000       1.000000  "
      ]
     },
     "execution_count": 12,
     "metadata": {},
     "output_type": "execute_result"
    }
   ],
   "source": [
    "# get the escription of the columns \n",
    "data1.describe().T"
   ]
  },
  {
   "cell_type": "code",
   "execution_count": null,
   "id": "e6eadc57",
   "metadata": {},
   "outputs": [],
   "source": [
    "# time is the - Number of seconds elapsed between this transaction and the first transaction in the dataset\n",
    "# as the dataset is pca reduced dataset there is no explainability from the columns description. "
   ]
  },
  {
   "cell_type": "markdown",
   "id": "12ba6ad9",
   "metadata": {},
   "source": [
    "### checking for class imbalance"
   ]
  },
  {
   "cell_type": "code",
   "execution_count": 13,
   "id": "776bdc38",
   "metadata": {
    "scrolled": true
   },
   "outputs": [
    {
     "data": {
      "text/plain": [
       "0    283253\n",
       "1       473\n",
       "Name: Class, dtype: int64"
      ]
     },
     "execution_count": 13,
     "metadata": {},
     "output_type": "execute_result"
    }
   ],
   "source": [
    "data1['Class'].value_counts()"
   ]
  },
  {
   "cell_type": "code",
   "execution_count": null,
   "id": "ab2b7175",
   "metadata": {},
   "outputs": [],
   "source": [
    "#### highly imbalanced data -"
   ]
  },
  {
   "cell_type": "markdown",
   "id": "82539ee7",
   "metadata": {},
   "source": [
    "##### No EDA to be done as the columns are already treated with PCA. "
   ]
  },
  {
   "cell_type": "markdown",
   "id": "4b5ee1f3",
   "metadata": {},
   "source": [
    "# Model building without treating class imbalance at first "
   ]
  },
  {
   "cell_type": "code",
   "execution_count": 8,
   "id": "f2d534e4",
   "metadata": {},
   "outputs": [],
   "source": [
    "from sklearn.model_selection import train_test_split, GridSearchCV\n",
    "\n",
    "\n",
    "from sklearn.metrics import ConfusionMatrixDisplay, accuracy_score, confusion_matrix,accuracy_score,classification_report,\\\n",
    "recall_score,precision_score,f1_score, roc_curve\n",
    "\n",
    "\n",
    "from sklearn.metrics import roc_auc_score\n",
    "\n",
    "\n",
    "from sklearn.model_selection import cross_val_score, KFold\n",
    "from sklearn.ensemble import RandomForestClassifier\n",
    "\n",
    "from sklearn.ensemble import BaggingClassifier\n",
    "from sklearn.linear_model import LogisticRegression\n",
    "from sklearn.neighbors import KNeighborsClassifier\n",
    "\n",
    "\n",
    "from sklearn.ensemble  import AdaBoostClassifier\n",
    "\n",
    "\n",
    "from sklearn.ensemble import GradientBoostingClassifier\n",
    "from xgboost import XGBClassifier\n",
    "from sklearn.ensemble import StackingClassifier\n",
    "from sklearn.naive_bayes import GaussianNB\n",
    "from sklearn.ensemble import VotingClassifier\n",
    "\n",
    "\n",
    "from sklearn.tree import DecisionTreeClassifier\n",
    "\n",
    "from sklearn.svm import SVC"
   ]
  },
  {
   "cell_type": "markdown",
   "id": "3f2ec852",
   "metadata": {},
   "source": [
    "### SPLIT THE DATA "
   ]
  },
  {
   "cell_type": "code",
   "execution_count": 9,
   "id": "6e67a190",
   "metadata": {},
   "outputs": [],
   "source": [
    "df=data1.copy()"
   ]
  },
  {
   "cell_type": "code",
   "execution_count": 10,
   "id": "f79b7da4",
   "metadata": {
    "scrolled": true
   },
   "outputs": [],
   "source": [
    "# get the features and target\n",
    "features=df.drop('Class', axis=1)\n",
    "target=df['Class']"
   ]
  },
  {
   "cell_type": "code",
   "execution_count": 11,
   "id": "74b1a335",
   "metadata": {},
   "outputs": [],
   "source": [
    "from sklearn.model_selection import train_test_split"
   ]
  },
  {
   "cell_type": "code",
   "execution_count": 12,
   "id": "1640f467",
   "metadata": {},
   "outputs": [],
   "source": [
    "x_train,x_test,y_train,y_test=train_test_split(features,target,test_size=0.20,random_state=1)"
   ]
  },
  {
   "cell_type": "code",
   "execution_count": 13,
   "id": "2e8455ff",
   "metadata": {},
   "outputs": [
    {
     "data": {
      "text/plain": [
       "((226980, 30), (56746, 30), (226980,), (56746,))"
      ]
     },
     "execution_count": 13,
     "metadata": {},
     "output_type": "execute_result"
    }
   ],
   "source": [
    "x_train.shape,x_test.shape,y_train.shape,y_test.shape"
   ]
  },
  {
   "cell_type": "markdown",
   "id": "dcb75175",
   "metadata": {},
   "source": [
    "### Building base models"
   ]
  },
  {
   "cell_type": "markdown",
   "id": "32a6a486",
   "metadata": {},
   "source": [
    "## No scaling "
   ]
  },
  {
   "cell_type": "code",
   "execution_count": 20,
   "id": "edfa1ee4",
   "metadata": {},
   "outputs": [
    {
     "name": "stderr",
     "output_type": "stream",
     "text": [
      "C:\\Users\\telsm\\anaconda3\\Lib\\site-packages\\sklearn\\linear_model\\_logistic.py:460: ConvergenceWarning: lbfgs failed to converge (status=1):\n",
      "STOP: TOTAL NO. of ITERATIONS REACHED LIMIT.\n",
      "\n",
      "Increase the number of iterations (max_iter) or scale the data as shown in:\n",
      "    https://scikit-learn.org/stable/modules/preprocessing.html\n",
      "Please also refer to the documentation for alternative solver options:\n",
      "    https://scikit-learn.org/stable/modules/linear_model.html#logistic-regression\n",
      "  n_iter_i = _check_optimize_result(\n",
      "C:\\Users\\telsm\\AppData\\Local\\Temp\\ipykernel_8240\\987179009.py:27: FutureWarning: The frame.append method is deprecated and will be removed from pandas in a future version. Use pandas.concat instead.\n",
      "  model_report=model_report.append(t,ignore_index=True)\n",
      "C:\\Users\\telsm\\AppData\\Local\\Temp\\ipykernel_8240\\987179009.py:27: FutureWarning: The frame.append method is deprecated and will be removed from pandas in a future version. Use pandas.concat instead.\n",
      "  model_report=model_report.append(t,ignore_index=True)\n"
     ]
    },
    {
     "name": "stdout",
     "output_type": "stream",
     "text": [
      "fitting the model .... logreg\n",
      "fitting the model .... naive bayes\n",
      "fitting the model .... decisiontree\n"
     ]
    },
    {
     "name": "stderr",
     "output_type": "stream",
     "text": [
      "C:\\Users\\telsm\\AppData\\Local\\Temp\\ipykernel_8240\\987179009.py:27: FutureWarning: The frame.append method is deprecated and will be removed from pandas in a future version. Use pandas.concat instead.\n",
      "  model_report=model_report.append(t,ignore_index=True)\n"
     ]
    },
    {
     "name": "stdout",
     "output_type": "stream",
     "text": [
      "fitting the model .... randomforest\n"
     ]
    },
    {
     "name": "stderr",
     "output_type": "stream",
     "text": [
      "C:\\Users\\telsm\\AppData\\Local\\Temp\\ipykernel_8240\\987179009.py:27: FutureWarning: The frame.append method is deprecated and will be removed from pandas in a future version. Use pandas.concat instead.\n",
      "  model_report=model_report.append(t,ignore_index=True)\n"
     ]
    },
    {
     "name": "stdout",
     "output_type": "stream",
     "text": [
      "fitting the model .... gradientboost\n"
     ]
    },
    {
     "name": "stderr",
     "output_type": "stream",
     "text": [
      "C:\\Users\\telsm\\AppData\\Local\\Temp\\ipykernel_8240\\987179009.py:27: FutureWarning: The frame.append method is deprecated and will be removed from pandas in a future version. Use pandas.concat instead.\n",
      "  model_report=model_report.append(t,ignore_index=True)\n"
     ]
    },
    {
     "name": "stdout",
     "output_type": "stream",
     "text": [
      "fitting the model .... svm\n"
     ]
    },
    {
     "name": "stderr",
     "output_type": "stream",
     "text": [
      "C:\\Users\\telsm\\anaconda3\\Lib\\site-packages\\sklearn\\metrics\\_classification.py:1469: UndefinedMetricWarning: Precision is ill-defined and being set to 0.0 due to no predicted samples. Use `zero_division` parameter to control this behavior.\n",
      "  _warn_prf(average, modifier, msg_start, len(result))\n",
      "C:\\Users\\telsm\\AppData\\Local\\Temp\\ipykernel_8240\\987179009.py:27: FutureWarning: The frame.append method is deprecated and will be removed from pandas in a future version. Use pandas.concat instead.\n",
      "  model_report=model_report.append(t,ignore_index=True)\n"
     ]
    },
    {
     "name": "stdout",
     "output_type": "stream",
     "text": [
      "fitting the model .... xgboost\n"
     ]
    },
    {
     "name": "stderr",
     "output_type": "stream",
     "text": [
      "C:\\Users\\telsm\\AppData\\Local\\Temp\\ipykernel_8240\\987179009.py:27: FutureWarning: The frame.append method is deprecated and will be removed from pandas in a future version. Use pandas.concat instead.\n",
      "  model_report=model_report.append(t,ignore_index=True)\n"
     ]
    }
   ],
   "source": [
    "# fit all the models together \n",
    "\n",
    "classifiers ={'logreg':LogisticRegression(),\n",
    "              'naive bayes':GaussianNB(),\n",
    "              'decisiontree':DecisionTreeClassifier(),\n",
    "              'randomforest':RandomForestClassifier(),\n",
    "              'gradientboost':GradientBoostingClassifier(),\n",
    "              'svm':SVC(),\n",
    "             \"xgboost\":XGBClassifier()}\n",
    "    \n",
    "    \n",
    "    \n",
    "model_report=pd.DataFrame(columns=['model_name','accuracy','recall','precision','f1','roc'])\n",
    "\n",
    "for classifier, classifier_name in list(zip(classifiers.values(), classifiers.keys())):\n",
    "    classifier.fit(x_train,y_train)\n",
    "    y_pred=classifier.predict(x_test)\n",
    "    print('fitting the model ....',classifier_name)\n",
    "    t=pd.Series({\n",
    "        'model_name':classifier_name, \n",
    "        'accuracy':accuracy_score(y_test,y_pred),\n",
    "        'recall':recall_score(y_test,y_pred),\n",
    "        'precision':precision_score(y_test,y_pred),\n",
    "        'f1':f1_score(y_test,y_pred),\n",
    "        'roc':roc_auc_score(y_test,y_pred),\n",
    "    })\n",
    "    model_report=model_report.append(t,ignore_index=True)\n",
    "    \n",
    "model_report=model_report.sort_values(by='f1', ascending=False)"
   ]
  },
  {
   "cell_type": "code",
   "execution_count": 25,
   "id": "6549fb52",
   "metadata": {},
   "outputs": [
    {
     "data": {
      "text/html": [
       "<div>\n",
       "<style scoped>\n",
       "    .dataframe tbody tr th:only-of-type {\n",
       "        vertical-align: middle;\n",
       "    }\n",
       "\n",
       "    .dataframe tbody tr th {\n",
       "        vertical-align: top;\n",
       "    }\n",
       "\n",
       "    .dataframe thead th {\n",
       "        text-align: right;\n",
       "    }\n",
       "</style>\n",
       "<table border=\"1\" class=\"dataframe\">\n",
       "  <thead>\n",
       "    <tr style=\"text-align: right;\">\n",
       "      <th></th>\n",
       "      <th>model_name</th>\n",
       "      <th>accuracy</th>\n",
       "      <th>recall</th>\n",
       "      <th>precision</th>\n",
       "      <th>f1</th>\n",
       "      <th>roc</th>\n",
       "    </tr>\n",
       "  </thead>\n",
       "  <tbody>\n",
       "    <tr>\n",
       "      <th>3</th>\n",
       "      <td>randomforest</td>\n",
       "      <td>0.999577</td>\n",
       "      <td>0.747126</td>\n",
       "      <td>0.970149</td>\n",
       "      <td>0.844156</td>\n",
       "      <td>0.873546</td>\n",
       "    </tr>\n",
       "    <tr>\n",
       "      <th>6</th>\n",
       "      <td>xgboost</td>\n",
       "      <td>0.999577</td>\n",
       "      <td>0.747126</td>\n",
       "      <td>0.970149</td>\n",
       "      <td>0.844156</td>\n",
       "      <td>0.873546</td>\n",
       "    </tr>\n",
       "    <tr>\n",
       "      <th>2</th>\n",
       "      <td>decisiontree</td>\n",
       "      <td>0.999119</td>\n",
       "      <td>0.701149</td>\n",
       "      <td>0.717647</td>\n",
       "      <td>0.709302</td>\n",
       "      <td>0.850363</td>\n",
       "    </tr>\n",
       "    <tr>\n",
       "      <th>0</th>\n",
       "      <td>logreg</td>\n",
       "      <td>0.999048</td>\n",
       "      <td>0.655172</td>\n",
       "      <td>0.703704</td>\n",
       "      <td>0.678571</td>\n",
       "      <td>0.827374</td>\n",
       "    </tr>\n",
       "    <tr>\n",
       "      <th>4</th>\n",
       "      <td>gradientboost</td>\n",
       "      <td>0.997903</td>\n",
       "      <td>0.229885</td>\n",
       "      <td>0.277778</td>\n",
       "      <td>0.251572</td>\n",
       "      <td>0.614484</td>\n",
       "    </tr>\n",
       "    <tr>\n",
       "      <th>1</th>\n",
       "      <td>naive bayes</td>\n",
       "      <td>0.992898</td>\n",
       "      <td>0.620690</td>\n",
       "      <td>0.127358</td>\n",
       "      <td>0.211350</td>\n",
       "      <td>0.807080</td>\n",
       "    </tr>\n",
       "    <tr>\n",
       "      <th>5</th>\n",
       "      <td>svm</td>\n",
       "      <td>0.998467</td>\n",
       "      <td>0.000000</td>\n",
       "      <td>0.000000</td>\n",
       "      <td>0.000000</td>\n",
       "      <td>0.500000</td>\n",
       "    </tr>\n",
       "  </tbody>\n",
       "</table>\n",
       "</div>"
      ],
      "text/plain": [
       "      model_name  accuracy    recall  precision        f1       roc\n",
       "3   randomforest  0.999577  0.747126   0.970149  0.844156  0.873546\n",
       "6        xgboost  0.999577  0.747126   0.970149  0.844156  0.873546\n",
       "2   decisiontree  0.999119  0.701149   0.717647  0.709302  0.850363\n",
       "0         logreg  0.999048  0.655172   0.703704  0.678571  0.827374\n",
       "4  gradientboost  0.997903  0.229885   0.277778  0.251572  0.614484\n",
       "1    naive bayes  0.992898  0.620690   0.127358  0.211350  0.807080\n",
       "5            svm  0.998467  0.000000   0.000000  0.000000  0.500000"
      ]
     },
     "execution_count": 25,
     "metadata": {},
     "output_type": "execute_result"
    }
   ],
   "source": [
    "# diplay the model report \n",
    "model_report"
   ]
  },
  {
   "cell_type": "markdown",
   "id": "c4bd31cd",
   "metadata": {},
   "source": [
    "from the base models it seems that random forest and xgboost performs better than other models. "
   ]
  },
  {
   "cell_type": "markdown",
   "id": "60031ff8",
   "metadata": {},
   "source": [
    "So let me tune the random forest model "
   ]
  },
  {
   "cell_type": "markdown",
   "id": "2c18db2a",
   "metadata": {},
   "source": [
    "# Treating the class imbalance and then rebuildimg the best base models\n",
    "##### smote on entire data"
   ]
  },
  {
   "cell_type": "code",
   "execution_count": 26,
   "id": "729c1cfa",
   "metadata": {},
   "outputs": [],
   "source": [
    "from imblearn.over_sampling import SMOTE "
   ]
  },
  {
   "cell_type": "code",
   "execution_count": 27,
   "id": "7e659645",
   "metadata": {},
   "outputs": [],
   "source": [
    "features=df.drop('Class', axis=1)\n",
    "target=df['Class']"
   ]
  },
  {
   "cell_type": "code",
   "execution_count": 28,
   "id": "736b87b4",
   "metadata": {},
   "outputs": [],
   "source": [
    "sm=SMOTE(sampling_strategy=0.3)"
   ]
  },
  {
   "cell_type": "code",
   "execution_count": 29,
   "id": "9736fa35",
   "metadata": {},
   "outputs": [],
   "source": [
    "# solve for data imbalance \n",
    "X, y=sm.fit_resample(features, target)"
   ]
  },
  {
   "cell_type": "code",
   "execution_count": 30,
   "id": "406c0bf0",
   "metadata": {},
   "outputs": [
    {
     "data": {
      "text/html": [
       "<div>\n",
       "<style scoped>\n",
       "    .dataframe tbody tr th:only-of-type {\n",
       "        vertical-align: middle;\n",
       "    }\n",
       "\n",
       "    .dataframe tbody tr th {\n",
       "        vertical-align: top;\n",
       "    }\n",
       "\n",
       "    .dataframe thead th {\n",
       "        text-align: right;\n",
       "    }\n",
       "</style>\n",
       "<table border=\"1\" class=\"dataframe\">\n",
       "  <thead>\n",
       "    <tr style=\"text-align: right;\">\n",
       "      <th></th>\n",
       "      <th>Time</th>\n",
       "      <th>V1</th>\n",
       "      <th>V2</th>\n",
       "      <th>V3</th>\n",
       "      <th>V4</th>\n",
       "      <th>V5</th>\n",
       "      <th>V6</th>\n",
       "      <th>V7</th>\n",
       "      <th>V8</th>\n",
       "      <th>V9</th>\n",
       "      <th>...</th>\n",
       "      <th>V20</th>\n",
       "      <th>V21</th>\n",
       "      <th>V22</th>\n",
       "      <th>V23</th>\n",
       "      <th>V24</th>\n",
       "      <th>V25</th>\n",
       "      <th>V26</th>\n",
       "      <th>V27</th>\n",
       "      <th>V28</th>\n",
       "      <th>Amount</th>\n",
       "    </tr>\n",
       "  </thead>\n",
       "  <tbody>\n",
       "    <tr>\n",
       "      <th>0</th>\n",
       "      <td>0.000000</td>\n",
       "      <td>-1.359807</td>\n",
       "      <td>-0.072781</td>\n",
       "      <td>2.536347</td>\n",
       "      <td>1.378155</td>\n",
       "      <td>-0.338321</td>\n",
       "      <td>0.462388</td>\n",
       "      <td>0.239599</td>\n",
       "      <td>0.098698</td>\n",
       "      <td>0.363787</td>\n",
       "      <td>...</td>\n",
       "      <td>0.251412</td>\n",
       "      <td>-0.018307</td>\n",
       "      <td>0.277838</td>\n",
       "      <td>-0.110474</td>\n",
       "      <td>0.066928</td>\n",
       "      <td>0.128539</td>\n",
       "      <td>-0.189115</td>\n",
       "      <td>0.133558</td>\n",
       "      <td>-0.021053</td>\n",
       "      <td>149.620000</td>\n",
       "    </tr>\n",
       "    <tr>\n",
       "      <th>1</th>\n",
       "      <td>0.000000</td>\n",
       "      <td>1.191857</td>\n",
       "      <td>0.266151</td>\n",
       "      <td>0.166480</td>\n",
       "      <td>0.448154</td>\n",
       "      <td>0.060018</td>\n",
       "      <td>-0.082361</td>\n",
       "      <td>-0.078803</td>\n",
       "      <td>0.085102</td>\n",
       "      <td>-0.255425</td>\n",
       "      <td>...</td>\n",
       "      <td>-0.069083</td>\n",
       "      <td>-0.225775</td>\n",
       "      <td>-0.638672</td>\n",
       "      <td>0.101288</td>\n",
       "      <td>-0.339846</td>\n",
       "      <td>0.167170</td>\n",
       "      <td>0.125895</td>\n",
       "      <td>-0.008983</td>\n",
       "      <td>0.014724</td>\n",
       "      <td>2.690000</td>\n",
       "    </tr>\n",
       "    <tr>\n",
       "      <th>2</th>\n",
       "      <td>1.000000</td>\n",
       "      <td>-1.358354</td>\n",
       "      <td>-1.340163</td>\n",
       "      <td>1.773209</td>\n",
       "      <td>0.379780</td>\n",
       "      <td>-0.503198</td>\n",
       "      <td>1.800499</td>\n",
       "      <td>0.791461</td>\n",
       "      <td>0.247676</td>\n",
       "      <td>-1.514654</td>\n",
       "      <td>...</td>\n",
       "      <td>0.524980</td>\n",
       "      <td>0.247998</td>\n",
       "      <td>0.771679</td>\n",
       "      <td>0.909412</td>\n",
       "      <td>-0.689281</td>\n",
       "      <td>-0.327642</td>\n",
       "      <td>-0.139097</td>\n",
       "      <td>-0.055353</td>\n",
       "      <td>-0.059752</td>\n",
       "      <td>378.660000</td>\n",
       "    </tr>\n",
       "    <tr>\n",
       "      <th>3</th>\n",
       "      <td>1.000000</td>\n",
       "      <td>-0.966272</td>\n",
       "      <td>-0.185226</td>\n",
       "      <td>1.792993</td>\n",
       "      <td>-0.863291</td>\n",
       "      <td>-0.010309</td>\n",
       "      <td>1.247203</td>\n",
       "      <td>0.237609</td>\n",
       "      <td>0.377436</td>\n",
       "      <td>-1.387024</td>\n",
       "      <td>...</td>\n",
       "      <td>-0.208038</td>\n",
       "      <td>-0.108300</td>\n",
       "      <td>0.005274</td>\n",
       "      <td>-0.190321</td>\n",
       "      <td>-1.175575</td>\n",
       "      <td>0.647376</td>\n",
       "      <td>-0.221929</td>\n",
       "      <td>0.062723</td>\n",
       "      <td>0.061458</td>\n",
       "      <td>123.500000</td>\n",
       "    </tr>\n",
       "    <tr>\n",
       "      <th>4</th>\n",
       "      <td>2.000000</td>\n",
       "      <td>-1.158233</td>\n",
       "      <td>0.877737</td>\n",
       "      <td>1.548718</td>\n",
       "      <td>0.403034</td>\n",
       "      <td>-0.407193</td>\n",
       "      <td>0.095921</td>\n",
       "      <td>0.592941</td>\n",
       "      <td>-0.270533</td>\n",
       "      <td>0.817739</td>\n",
       "      <td>...</td>\n",
       "      <td>0.408542</td>\n",
       "      <td>-0.009431</td>\n",
       "      <td>0.798278</td>\n",
       "      <td>-0.137458</td>\n",
       "      <td>0.141267</td>\n",
       "      <td>-0.206010</td>\n",
       "      <td>0.502292</td>\n",
       "      <td>0.219422</td>\n",
       "      <td>0.215153</td>\n",
       "      <td>69.990000</td>\n",
       "    </tr>\n",
       "    <tr>\n",
       "      <th>...</th>\n",
       "      <td>...</td>\n",
       "      <td>...</td>\n",
       "      <td>...</td>\n",
       "      <td>...</td>\n",
       "      <td>...</td>\n",
       "      <td>...</td>\n",
       "      <td>...</td>\n",
       "      <td>...</td>\n",
       "      <td>...</td>\n",
       "      <td>...</td>\n",
       "      <td>...</td>\n",
       "      <td>...</td>\n",
       "      <td>...</td>\n",
       "      <td>...</td>\n",
       "      <td>...</td>\n",
       "      <td>...</td>\n",
       "      <td>...</td>\n",
       "      <td>...</td>\n",
       "      <td>...</td>\n",
       "      <td>...</td>\n",
       "      <td>...</td>\n",
       "    </tr>\n",
       "    <tr>\n",
       "      <th>368223</th>\n",
       "      <td>129349.279948</td>\n",
       "      <td>0.794608</td>\n",
       "      <td>2.643276</td>\n",
       "      <td>-5.442634</td>\n",
       "      <td>5.046178</td>\n",
       "      <td>0.783414</td>\n",
       "      <td>-1.311726</td>\n",
       "      <td>-1.457810</td>\n",
       "      <td>0.632920</td>\n",
       "      <td>-2.210441</td>\n",
       "      <td>...</td>\n",
       "      <td>0.341171</td>\n",
       "      <td>0.284691</td>\n",
       "      <td>-0.333941</td>\n",
       "      <td>0.002775</td>\n",
       "      <td>0.095023</td>\n",
       "      <td>0.099922</td>\n",
       "      <td>0.052749</td>\n",
       "      <td>0.460961</td>\n",
       "      <td>0.250291</td>\n",
       "      <td>27.891305</td>\n",
       "    </tr>\n",
       "    <tr>\n",
       "      <th>368224</th>\n",
       "      <td>70473.859419</td>\n",
       "      <td>-1.583648</td>\n",
       "      <td>0.738775</td>\n",
       "      <td>-3.299432</td>\n",
       "      <td>3.459578</td>\n",
       "      <td>-2.081759</td>\n",
       "      <td>-1.610261</td>\n",
       "      <td>-2.815089</td>\n",
       "      <td>0.995575</td>\n",
       "      <td>-2.052434</td>\n",
       "      <td>...</td>\n",
       "      <td>1.329862</td>\n",
       "      <td>0.901487</td>\n",
       "      <td>-0.177377</td>\n",
       "      <td>0.179043</td>\n",
       "      <td>0.210861</td>\n",
       "      <td>0.373402</td>\n",
       "      <td>-0.291005</td>\n",
       "      <td>0.806395</td>\n",
       "      <td>0.361756</td>\n",
       "      <td>310.677661</td>\n",
       "    </tr>\n",
       "    <tr>\n",
       "      <th>368225</th>\n",
       "      <td>7538.600208</td>\n",
       "      <td>0.672091</td>\n",
       "      <td>3.503214</td>\n",
       "      <td>-5.107325</td>\n",
       "      <td>5.538027</td>\n",
       "      <td>2.356205</td>\n",
       "      <td>-2.150089</td>\n",
       "      <td>0.206664</td>\n",
       "      <td>-0.158289</td>\n",
       "      <td>-2.137807</td>\n",
       "      <td>...</td>\n",
       "      <td>0.241352</td>\n",
       "      <td>-0.018978</td>\n",
       "      <td>-0.586314</td>\n",
       "      <td>-0.612097</td>\n",
       "      <td>-0.767299</td>\n",
       "      <td>1.480235</td>\n",
       "      <td>0.520489</td>\n",
       "      <td>0.313929</td>\n",
       "      <td>0.303432</td>\n",
       "      <td>1.000000</td>\n",
       "    </tr>\n",
       "    <tr>\n",
       "      <th>368226</th>\n",
       "      <td>146546.615036</td>\n",
       "      <td>-0.364534</td>\n",
       "      <td>2.234357</td>\n",
       "      <td>-5.969575</td>\n",
       "      <td>3.773217</td>\n",
       "      <td>-1.935010</td>\n",
       "      <td>-2.081131</td>\n",
       "      <td>-1.581855</td>\n",
       "      <td>0.875878</td>\n",
       "      <td>-2.236156</td>\n",
       "      <td>...</td>\n",
       "      <td>0.705987</td>\n",
       "      <td>0.752414</td>\n",
       "      <td>0.212351</td>\n",
       "      <td>0.562511</td>\n",
       "      <td>-0.004568</td>\n",
       "      <td>-0.049603</td>\n",
       "      <td>0.569346</td>\n",
       "      <td>0.102245</td>\n",
       "      <td>-0.082706</td>\n",
       "      <td>252.682856</td>\n",
       "    </tr>\n",
       "    <tr>\n",
       "      <th>368227</th>\n",
       "      <td>21503.957973</td>\n",
       "      <td>-17.660299</td>\n",
       "      <td>10.269972</td>\n",
       "      <td>-24.364926</td>\n",
       "      <td>11.798725</td>\n",
       "      <td>-10.326221</td>\n",
       "      <td>-2.602923</td>\n",
       "      <td>-17.784987</td>\n",
       "      <td>2.409601</td>\n",
       "      <td>-6.234218</td>\n",
       "      <td>...</td>\n",
       "      <td>1.003681</td>\n",
       "      <td>-2.325037</td>\n",
       "      <td>0.929645</td>\n",
       "      <td>1.316426</td>\n",
       "      <td>-1.056544</td>\n",
       "      <td>0.137650</td>\n",
       "      <td>0.682262</td>\n",
       "      <td>2.088135</td>\n",
       "      <td>-1.426899</td>\n",
       "      <td>1.000000</td>\n",
       "    </tr>\n",
       "  </tbody>\n",
       "</table>\n",
       "<p>368228 rows × 30 columns</p>\n",
       "</div>"
      ],
      "text/plain": [
       "                 Time         V1         V2         V3         V4         V5  \\\n",
       "0            0.000000  -1.359807  -0.072781   2.536347   1.378155  -0.338321   \n",
       "1            0.000000   1.191857   0.266151   0.166480   0.448154   0.060018   \n",
       "2            1.000000  -1.358354  -1.340163   1.773209   0.379780  -0.503198   \n",
       "3            1.000000  -0.966272  -0.185226   1.792993  -0.863291  -0.010309   \n",
       "4            2.000000  -1.158233   0.877737   1.548718   0.403034  -0.407193   \n",
       "...               ...        ...        ...        ...        ...        ...   \n",
       "368223  129349.279948   0.794608   2.643276  -5.442634   5.046178   0.783414   \n",
       "368224   70473.859419  -1.583648   0.738775  -3.299432   3.459578  -2.081759   \n",
       "368225    7538.600208   0.672091   3.503214  -5.107325   5.538027   2.356205   \n",
       "368226  146546.615036  -0.364534   2.234357  -5.969575   3.773217  -1.935010   \n",
       "368227   21503.957973 -17.660299  10.269972 -24.364926  11.798725 -10.326221   \n",
       "\n",
       "              V6         V7        V8        V9  ...       V20       V21  \\\n",
       "0       0.462388   0.239599  0.098698  0.363787  ...  0.251412 -0.018307   \n",
       "1      -0.082361  -0.078803  0.085102 -0.255425  ... -0.069083 -0.225775   \n",
       "2       1.800499   0.791461  0.247676 -1.514654  ...  0.524980  0.247998   \n",
       "3       1.247203   0.237609  0.377436 -1.387024  ... -0.208038 -0.108300   \n",
       "4       0.095921   0.592941 -0.270533  0.817739  ...  0.408542 -0.009431   \n",
       "...          ...        ...       ...       ...  ...       ...       ...   \n",
       "368223 -1.311726  -1.457810  0.632920 -2.210441  ...  0.341171  0.284691   \n",
       "368224 -1.610261  -2.815089  0.995575 -2.052434  ...  1.329862  0.901487   \n",
       "368225 -2.150089   0.206664 -0.158289 -2.137807  ...  0.241352 -0.018978   \n",
       "368226 -2.081131  -1.581855  0.875878 -2.236156  ...  0.705987  0.752414   \n",
       "368227 -2.602923 -17.784987  2.409601 -6.234218  ...  1.003681 -2.325037   \n",
       "\n",
       "             V22       V23       V24       V25       V26       V27       V28  \\\n",
       "0       0.277838 -0.110474  0.066928  0.128539 -0.189115  0.133558 -0.021053   \n",
       "1      -0.638672  0.101288 -0.339846  0.167170  0.125895 -0.008983  0.014724   \n",
       "2       0.771679  0.909412 -0.689281 -0.327642 -0.139097 -0.055353 -0.059752   \n",
       "3       0.005274 -0.190321 -1.175575  0.647376 -0.221929  0.062723  0.061458   \n",
       "4       0.798278 -0.137458  0.141267 -0.206010  0.502292  0.219422  0.215153   \n",
       "...          ...       ...       ...       ...       ...       ...       ...   \n",
       "368223 -0.333941  0.002775  0.095023  0.099922  0.052749  0.460961  0.250291   \n",
       "368224 -0.177377  0.179043  0.210861  0.373402 -0.291005  0.806395  0.361756   \n",
       "368225 -0.586314 -0.612097 -0.767299  1.480235  0.520489  0.313929  0.303432   \n",
       "368226  0.212351  0.562511 -0.004568 -0.049603  0.569346  0.102245 -0.082706   \n",
       "368227  0.929645  1.316426 -1.056544  0.137650  0.682262  2.088135 -1.426899   \n",
       "\n",
       "            Amount  \n",
       "0       149.620000  \n",
       "1         2.690000  \n",
       "2       378.660000  \n",
       "3       123.500000  \n",
       "4        69.990000  \n",
       "...            ...  \n",
       "368223   27.891305  \n",
       "368224  310.677661  \n",
       "368225    1.000000  \n",
       "368226  252.682856  \n",
       "368227    1.000000  \n",
       "\n",
       "[368228 rows x 30 columns]"
      ]
     },
     "execution_count": 30,
     "metadata": {},
     "output_type": "execute_result"
    }
   ],
   "source": [
    "X"
   ]
  },
  {
   "cell_type": "code",
   "execution_count": 31,
   "id": "d833ac61",
   "metadata": {},
   "outputs": [
    {
     "data": {
      "text/plain": [
       "0    283253\n",
       "1     84975\n",
       "Name: Class, dtype: int64"
      ]
     },
     "execution_count": 31,
     "metadata": {},
     "output_type": "execute_result"
    }
   ],
   "source": [
    "y.value_counts()"
   ]
  },
  {
   "cell_type": "code",
   "execution_count": 32,
   "id": "c9f263b0",
   "metadata": {},
   "outputs": [],
   "source": [
    "# train test split\n",
    "x_train, x_test, y_train, y_test=train_test_split(X, y, test_size=0.2, \n",
    "                                random_state=1)"
   ]
  },
  {
   "cell_type": "code",
   "execution_count": 33,
   "id": "bce47a68",
   "metadata": {},
   "outputs": [
    {
     "data": {
      "text/plain": [
       "((294582, 30), (73646, 30), (294582,), (73646,))"
      ]
     },
     "execution_count": 33,
     "metadata": {},
     "output_type": "execute_result"
    }
   ],
   "source": [
    "x_train.shape, x_test.shape, y_train.shape, y_test.shape"
   ]
  },
  {
   "cell_type": "code",
   "execution_count": 35,
   "id": "53d2601a",
   "metadata": {},
   "outputs": [
    {
     "name": "stdout",
     "output_type": "stream",
     "text": [
      "fitting the model .... randomforest\n"
     ]
    },
    {
     "name": "stderr",
     "output_type": "stream",
     "text": [
      "C:\\Users\\telsm\\AppData\\Local\\Temp\\ipykernel_8240\\2236711740.py:20: FutureWarning: The frame.append method is deprecated and will be removed from pandas in a future version. Use pandas.concat instead.\n",
      "  model_report=model_report.append(t,ignore_index=True)\n"
     ]
    },
    {
     "name": "stdout",
     "output_type": "stream",
     "text": [
      "fitting the model .... xgboost\n"
     ]
    },
    {
     "name": "stderr",
     "output_type": "stream",
     "text": [
      "C:\\Users\\telsm\\AppData\\Local\\Temp\\ipykernel_8240\\2236711740.py:20: FutureWarning: The frame.append method is deprecated and will be removed from pandas in a future version. Use pandas.concat instead.\n",
      "  model_report=model_report.append(t,ignore_index=True)\n"
     ]
    }
   ],
   "source": [
    "\n",
    "classifiers ={'randomforest':RandomForestClassifier(),\n",
    "             \"xgboost\":XGBClassifier()}\n",
    "    \n",
    "    \n",
    "    \n",
    "model_report=pd.DataFrame(columns=['model_name','accuracy','recall','precision','f1','roc'])\n",
    "\n",
    "for classifier, classifier_name in list(zip(classifiers.values(), classifiers.keys())):\n",
    "    classifier.fit(x_train,y_train)\n",
    "    y_pred=classifier.predict(x_test)\n",
    "    print('fitting the model ....',classifier_name)\n",
    "    t=pd.Series({\n",
    "        'model_name':classifier_name, \n",
    "        'accuracy':accuracy_score(y_test,y_pred),\n",
    "        'recall':recall_score(y_test,y_pred),\n",
    "        'precision':precision_score(y_test,y_pred),\n",
    "        'f1':f1_score(y_test,y_pred),\n",
    "        'roc':roc_auc_score(y_test,y_pred)\n",
    "    })\n",
    "    model_report=model_report.append(t,ignore_index=True)\n",
    "    \n",
    "model_report=model_report.sort_values(by='f1', ascending=False)"
   ]
  },
  {
   "cell_type": "code",
   "execution_count": 36,
   "id": "559f3f98",
   "metadata": {},
   "outputs": [
    {
     "data": {
      "text/html": [
       "<div>\n",
       "<style scoped>\n",
       "    .dataframe tbody tr th:only-of-type {\n",
       "        vertical-align: middle;\n",
       "    }\n",
       "\n",
       "    .dataframe tbody tr th {\n",
       "        vertical-align: top;\n",
       "    }\n",
       "\n",
       "    .dataframe thead th {\n",
       "        text-align: right;\n",
       "    }\n",
       "</style>\n",
       "<table border=\"1\" class=\"dataframe\">\n",
       "  <thead>\n",
       "    <tr style=\"text-align: right;\">\n",
       "      <th></th>\n",
       "      <th>model_name</th>\n",
       "      <th>accuracy</th>\n",
       "      <th>recall</th>\n",
       "      <th>precision</th>\n",
       "      <th>f1</th>\n",
       "      <th>roc</th>\n",
       "    </tr>\n",
       "  </thead>\n",
       "  <tbody>\n",
       "    <tr>\n",
       "      <th>1</th>\n",
       "      <td>xgboost</td>\n",
       "      <td>0.999783</td>\n",
       "      <td>1.000000</td>\n",
       "      <td>0.999063</td>\n",
       "      <td>0.999531</td>\n",
       "      <td>0.999859</td>\n",
       "    </tr>\n",
       "    <tr>\n",
       "      <th>0</th>\n",
       "      <td>randomforest</td>\n",
       "      <td>0.999688</td>\n",
       "      <td>0.999414</td>\n",
       "      <td>0.999238</td>\n",
       "      <td>0.999326</td>\n",
       "      <td>0.999592</td>\n",
       "    </tr>\n",
       "  </tbody>\n",
       "</table>\n",
       "</div>"
      ],
      "text/plain": [
       "     model_name  accuracy    recall  precision        f1       roc\n",
       "1       xgboost  0.999783  1.000000   0.999063  0.999531  0.999859\n",
       "0  randomforest  0.999688  0.999414   0.999238  0.999326  0.999592"
      ]
     },
     "execution_count": 36,
     "metadata": {},
     "output_type": "execute_result"
    }
   ],
   "source": [
    "model_report"
   ]
  },
  {
   "cell_type": "markdown",
   "id": "5cf974dd",
   "metadata": {},
   "source": [
    "from the model report random forest appears to be the best model. no hyperparametr tuning needed."
   ]
  },
  {
   "cell_type": "markdown",
   "id": "2cf3fa7d",
   "metadata": {},
   "source": [
    "## model analysis"
   ]
  },
  {
   "cell_type": "code",
   "execution_count": 38,
   "id": "21ab973f",
   "metadata": {},
   "outputs": [],
   "source": [
    "XGB=XGBClassifier()\n",
    "XGB.fit(x_train,y_train)\n",
    "\n",
    "y_pred=XGB.predict(x_test)"
   ]
  },
  {
   "cell_type": "code",
   "execution_count": 39,
   "id": "7a37cec5",
   "metadata": {},
   "outputs": [],
   "source": [
    "# get the probabiloties \n",
    "y_pred_prob = XGB.predict(x_test)"
   ]
  },
  {
   "cell_type": "code",
   "execution_count": 41,
   "id": "06d79c8a",
   "metadata": {
    "scrolled": true
   },
   "outputs": [
    {
     "data": {
      "text/plain": [
       "array([0, 1, 0, ..., 0, 0, 1])"
      ]
     },
     "execution_count": 41,
     "metadata": {},
     "output_type": "execute_result"
    }
   ],
   "source": [
    "# get the predictions \n",
    "y_pred"
   ]
  },
  {
   "cell_type": "code",
   "execution_count": 42,
   "id": "49089b7d",
   "metadata": {},
   "outputs": [
    {
     "data": {
      "text/plain": [
       "146932    0\n",
       "361040    1\n",
       "219650    0\n",
       "265303    0\n",
       "312219    1\n",
       "         ..\n",
       "75996     0\n",
       "340154    1\n",
       "49479     0\n",
       "153028    0\n",
       "310468    1\n",
       "Name: Class, Length: 73646, dtype: int64"
      ]
     },
     "execution_count": 42,
     "metadata": {},
     "output_type": "execute_result"
    }
   ],
   "source": [
    "y_test"
   ]
  },
  {
   "cell_type": "code",
   "execution_count": 43,
   "id": "e35c78b8",
   "metadata": {},
   "outputs": [
    {
     "data": {
      "image/png": "[encoded data removed]",
      "text/plain": [
       "<Figure size 640x480 with 2 Axes>"
      ]
     },
     "metadata": {},
     "output_type": "display_data"
    }
   ],
   "source": [
    "# display confusion matrix\n",
    "plt.style.use('classic')\n",
    "ConfusionMatrixDisplay.from_predictions(y_test,y_pred, cmap='bone')\n",
    "plt.show()\n",
    "# 1 in case of fraud and 0 otherwise."
   ]
  },
  {
   "cell_type": "code",
   "execution_count": 44,
   "id": "7c9f3c5e",
   "metadata": {},
   "outputs": [
    {
     "data": {
      "text/plain": [
       "0.999782744480352"
      ]
     },
     "execution_count": 44,
     "metadata": {},
     "output_type": "execute_result"
    }
   ],
   "source": [
    "# get the accuracy score \n",
    "accuracy_score(y_test,y_pred)"
   ]
  },
  {
   "cell_type": "code",
   "execution_count": 45,
   "id": "0b8bf216",
   "metadata": {
    "scrolled": false
   },
   "outputs": [
    {
     "data": {
      "image/png": "[encoded data removed]",
      "text/plain": [
       "<Figure size 640x480 with 1 Axes>"
      ]
     },
     "metadata": {},
     "output_type": "display_data"
    }
   ],
   "source": [
    "# auc-roc curve \n",
    "fpr, tpr, thresholds = roc_curve(y_test, y_pred_prob)\n",
    "\n",
    "# plot the ROC curve\n",
    "plt.plot(fpr, tpr)\n",
    "\n",
    "# set limits for x and y axes\n",
    "plt.xlim([-0.1, 1.1])\n",
    "plt.ylim([-0.1, 1.1])\n",
    "\n",
    "# plot the straight line showing worst prediction for the model\n",
    "plt.plot([0, 1], [0, 1],'r--')\n",
    "\n",
    "# add plot and axes labels\n",
    "# set text size using 'fontsize'\n",
    "plt.title('ROC curve Credit card fraud detection', fontsize = 15)\n",
    "plt.xlabel('False positive rate (1-Specificity)', fontsize = 15)\n",
    "plt.ylabel('True positive rate (Sensitivity)', fontsize = 15)\n",
    "\n",
    "# add the AUC score to the plot\n",
    "# 'x' and 'y' gives position of the text\n",
    "# 's' is the text \n",
    "# use round() to round-off the AUC score upto 4 digits\n",
    "plt.text(x = 0.02, y = 0.9, s = ('AUC Score:', round(roc_auc_score(y_test, y_pred_prob),4)))\n",
    "                               \n",
    "# plot the grid\n",
    "plt.grid(True)\n"
   ]
  },
  {
   "cell_type": "markdown",
   "id": "e0d8bafe",
   "metadata": {},
   "source": [
    "If we apply SMOTE on the entire data the models will be overfitting and we loose the original data. "
   ]
  },
  {
   "cell_type": "code",
   "execution_count": null,
   "id": "ff14f13f",
   "metadata": {},
   "outputs": [],
   "source": []
  },
  {
   "cell_type": "markdown",
   "id": "6947dcfe",
   "metadata": {},
   "source": [
    "# Treating the class imbalance and then rebuilding the best base models\n",
    "\n",
    "##### smote on train data "
   ]
  },
  {
   "cell_type": "code",
   "execution_count": 19,
   "id": "8ab09efd",
   "metadata": {
    "scrolled": true
   },
   "outputs": [],
   "source": [
    "from imblearn.over_sampling import SMOTE \n",
    "sm=SMOTE(sampling_strategy=0.2, random_state=10)"
   ]
  },
  {
   "cell_type": "code",
   "execution_count": 20,
   "id": "f1d81bb7",
   "metadata": {},
   "outputs": [],
   "source": [
    "# solve for data imbalance \n",
    "x_train_sam, y_train_sam = sm.fit_resample(x_train, y_train)"
   ]
  },
  {
   "cell_type": "code",
   "execution_count": 21,
   "id": "e17076ef",
   "metadata": {},
   "outputs": [
    {
     "data": {
      "text/plain": [
       "0    226594\n",
       "1       386\n",
       "Name: Class, dtype: int64"
      ]
     },
     "execution_count": 21,
     "metadata": {},
     "output_type": "execute_result"
    }
   ],
   "source": [
    "y_train.value_counts()"
   ]
  },
  {
   "cell_type": "code",
   "execution_count": 22,
   "id": "5aadc565",
   "metadata": {},
   "outputs": [
    {
     "data": {
      "text/plain": [
       "0    226594\n",
       "1     45318\n",
       "Name: Class, dtype: int64"
      ]
     },
     "execution_count": 22,
     "metadata": {},
     "output_type": "execute_result"
    }
   ],
   "source": [
    "y_train_sam.value_counts()"
   ]
  },
  {
   "cell_type": "code",
   "execution_count": 23,
   "id": "ac427506",
   "metadata": {},
   "outputs": [
    {
     "name": "stdout",
     "output_type": "stream",
     "text": [
      "fitting the model .... randomforest\n"
     ]
    },
    {
     "name": "stderr",
     "output_type": "stream",
     "text": [
      "C:\\Users\\telsm\\AppData\\Local\\Temp\\ipykernel_8356\\1672070715.py:20: FutureWarning: The frame.append method is deprecated and will be removed from pandas in a future version. Use pandas.concat instead.\n",
      "  model_report=model_report.append(t,ignore_index=True)\n"
     ]
    },
    {
     "name": "stdout",
     "output_type": "stream",
     "text": [
      "fitting the model .... xgboost\n"
     ]
    },
    {
     "name": "stderr",
     "output_type": "stream",
     "text": [
      "C:\\Users\\telsm\\AppData\\Local\\Temp\\ipykernel_8356\\1672070715.py:20: FutureWarning: The frame.append method is deprecated and will be removed from pandas in a future version. Use pandas.concat instead.\n",
      "  model_report=model_report.append(t,ignore_index=True)\n"
     ]
    }
   ],
   "source": [
    "classifiers ={'randomforest':RandomForestClassifier(),\n",
    "             \"xgboost\":XGBClassifier()}\n",
    "    \n",
    "    \n",
    "    \n",
    "model_report=pd.DataFrame(columns=['model_name','accuracy','recall','precision','f1','roc'])\n",
    "\n",
    "for classifier, classifier_name in list(zip(classifiers.values(), classifiers.keys())):\n",
    "    classifier.fit(x_train_sam,y_train_sam)\n",
    "    y_pred=classifier.predict(x_test)\n",
    "    print('fitting the model ....',classifier_name)\n",
    "    t=pd.Series({\n",
    "        'model_name':classifier_name, \n",
    "        'accuracy':accuracy_score(y_test,y_pred),\n",
    "        'recall':recall_score(y_test,y_pred),\n",
    "        'precision':precision_score(y_test,y_pred),\n",
    "        'f1':f1_score(y_test,y_pred),\n",
    "        'roc':roc_auc_score(y_test,y_pred)\n",
    "    })\n",
    "    model_report=model_report.append(t,ignore_index=True)\n",
    "    \n",
    "model_report=model_report.sort_values(by='f1', ascending=False)"
   ]
  },
  {
   "cell_type": "code",
   "execution_count": 24,
   "id": "94752da6",
   "metadata": {},
   "outputs": [
    {
     "data": {
      "text/html": [
       "<div>\n",
       "<style scoped>\n",
       "    .dataframe tbody tr th:only-of-type {\n",
       "        vertical-align: middle;\n",
       "    }\n",
       "\n",
       "    .dataframe tbody tr th {\n",
       "        vertical-align: top;\n",
       "    }\n",
       "\n",
       "    .dataframe thead th {\n",
       "        text-align: right;\n",
       "    }\n",
       "</style>\n",
       "<table border=\"1\" class=\"dataframe\">\n",
       "  <thead>\n",
       "    <tr style=\"text-align: right;\">\n",
       "      <th></th>\n",
       "      <th>model_name</th>\n",
       "      <th>accuracy</th>\n",
       "      <th>recall</th>\n",
       "      <th>precision</th>\n",
       "      <th>f1</th>\n",
       "      <th>roc</th>\n",
       "    </tr>\n",
       "  </thead>\n",
       "  <tbody>\n",
       "    <tr>\n",
       "      <th>0</th>\n",
       "      <td>randomforest</td>\n",
       "      <td>0.999559</td>\n",
       "      <td>0.827586</td>\n",
       "      <td>0.878049</td>\n",
       "      <td>0.852071</td>\n",
       "      <td>0.913705</td>\n",
       "    </tr>\n",
       "    <tr>\n",
       "      <th>1</th>\n",
       "      <td>xgboost</td>\n",
       "      <td>0.999418</td>\n",
       "      <td>0.793103</td>\n",
       "      <td>0.821429</td>\n",
       "      <td>0.807018</td>\n",
       "      <td>0.896419</td>\n",
       "    </tr>\n",
       "  </tbody>\n",
       "</table>\n",
       "</div>"
      ],
      "text/plain": [
       "     model_name  accuracy    recall  precision        f1       roc\n",
       "0  randomforest  0.999559  0.827586   0.878049  0.852071  0.913705\n",
       "1       xgboost  0.999418  0.793103   0.821429  0.807018  0.896419"
      ]
     },
     "execution_count": 24,
     "metadata": {},
     "output_type": "execute_result"
    }
   ],
   "source": [
    "model_report"
   ]
  },
  {
   "cell_type": "markdown",
   "id": "03c5fa07",
   "metadata": {},
   "source": [
    "The best model is random forest with smote on train data. "
   ]
  },
  {
   "cell_type": "code",
   "execution_count": 27,
   "id": "707819ff",
   "metadata": {},
   "outputs": [],
   "source": [
    "rf=RandomForestClassifier()"
   ]
  },
  {
   "cell_type": "code",
   "execution_count": 29,
   "id": "564903a0",
   "metadata": {},
   "outputs": [],
   "source": [
    "rf.fit(x_train_sam,y_train_sam)\n",
    "y_pred=rf.predict(x_test)"
   ]
  },
  {
   "cell_type": "code",
   "execution_count": 31,
   "id": "60519fa6",
   "metadata": {},
   "outputs": [],
   "source": [
    "# get the probabiloties \n",
    "y_pred_prob = rf.predict(x_test)"
   ]
  },
  {
   "cell_type": "code",
   "execution_count": 32,
   "id": "91703a95",
   "metadata": {
    "scrolled": false
   },
   "outputs": [
    {
     "data": {
      "image/png": "[encoded data removed]",
      "text/plain": [
       "<Figure size 640x480 with 2 Axes>"
      ]
     },
     "metadata": {},
     "output_type": "display_data"
    }
   ],
   "source": [
    "# display confusion matrix\n",
    "plt.style.use('classic')\n",
    "ConfusionMatrixDisplay.from_predictions(y_test,y_pred, cmap='bone')\n",
    "plt.show()\n",
    "# 1 in case of fraud and 0 otherwise."
   ]
  },
  {
   "cell_type": "markdown",
   "id": "ba69dad3",
   "metadata": {},
   "source": [
    "From the confusion matrix display, the credit card fraud predicted as not fraud even though they are fraud is 16.\n",
    "From the domain perspective we have to be more precise on the prediction of fraud transactions, means we have to predict more class 1 as class one itself. \n",
    "\n",
    "For that we have to check the threshold where we can get a good prediction of credit card frauds. "
   ]
  },
  {
   "cell_type": "code",
   "execution_count": 44,
   "id": "98f70826",
   "metadata": {},
   "outputs": [],
   "source": [
    "# consider a list of values for cut-off\n",
    "cutoff = [0.1, 0.2, 0.3, 0.4, 0.5, 0.6, 0.7, 0.8, 0.9]"
   ]
  },
  {
   "cell_type": "code",
   "execution_count": null,
   "id": "c3cea94e",
   "metadata": {},
   "outputs": [],
   "source": []
  },
  {
   "cell_type": "code",
   "execution_count": null,
   "id": "f291f066",
   "metadata": {},
   "outputs": [],
   "source": []
  },
  {
   "cell_type": "code",
   "execution_count": null,
   "id": "59280574",
   "metadata": {},
   "outputs": [],
   "source": []
  },
  {
   "cell_type": "code",
   "execution_count": 48,
   "id": "1ab0c20b",
   "metadata": {},
   "outputs": [],
   "source": [
    "def threshold(model,xtrain,xtest,ytrain,ytest):\n",
    "    f1 = []\n",
    "    pres = []\n",
    "    rec = []\n",
    "    for i in [0.35,0.40,0.45,0.5,0.55,0.60,0.65]:\n",
    "        model.fit(xtrain,ytrain)\n",
    "        ypred = (model.predict_proba(xtest)[:, 1] >= i).astype(int)\n",
    "        f1.append(f1_score(ytest,ypred))\n",
    "        pres.append(precision_score(ytest,ypred))\n",
    "        rec.append(recall_score(ytest,ypred))\n",
    "    model_df = pd.DataFrame([[0.35,0.40,0.45,0.5,0.55,0.60,0.65],f1,pres,rec],index=[\"Range\",\"F1 Score\",\"Precision\",\"Recall\"]).T\n",
    "    return model_df.sort_values(by=[\"F1 Score\",\"Precision\",\"Recall\",\"Range\"],ascending=[False,False,False,False])"
   ]
  },
  {
   "cell_type": "code",
   "execution_count": 49,
   "id": "51fff67a",
   "metadata": {},
   "outputs": [
    {
     "data": {
      "text/html": [
       "<div>\n",
       "<style scoped>\n",
       "    .dataframe tbody tr th:only-of-type {\n",
       "        vertical-align: middle;\n",
       "    }\n",
       "\n",
       "    .dataframe tbody tr th {\n",
       "        vertical-align: top;\n",
       "    }\n",
       "\n",
       "    .dataframe thead th {\n",
       "        text-align: right;\n",
       "    }\n",
       "</style>\n",
       "<table border=\"1\" class=\"dataframe\">\n",
       "  <thead>\n",
       "    <tr style=\"text-align: right;\">\n",
       "      <th></th>\n",
       "      <th>Range</th>\n",
       "      <th>F1 Score</th>\n",
       "      <th>Precision</th>\n",
       "      <th>Recall</th>\n",
       "    </tr>\n",
       "  </thead>\n",
       "  <tbody>\n",
       "    <tr>\n",
       "      <th>5</th>\n",
       "      <td>0.60</td>\n",
       "      <td>0.860606</td>\n",
       "      <td>0.910256</td>\n",
       "      <td>0.816092</td>\n",
       "    </tr>\n",
       "    <tr>\n",
       "      <th>4</th>\n",
       "      <td>0.55</td>\n",
       "      <td>0.855422</td>\n",
       "      <td>0.898734</td>\n",
       "      <td>0.816092</td>\n",
       "    </tr>\n",
       "    <tr>\n",
       "      <th>6</th>\n",
       "      <td>0.65</td>\n",
       "      <td>0.851852</td>\n",
       "      <td>0.920000</td>\n",
       "      <td>0.793103</td>\n",
       "    </tr>\n",
       "    <tr>\n",
       "      <th>3</th>\n",
       "      <td>0.50</td>\n",
       "      <td>0.847059</td>\n",
       "      <td>0.867470</td>\n",
       "      <td>0.827586</td>\n",
       "    </tr>\n",
       "    <tr>\n",
       "      <th>2</th>\n",
       "      <td>0.45</td>\n",
       "      <td>0.842105</td>\n",
       "      <td>0.857143</td>\n",
       "      <td>0.827586</td>\n",
       "    </tr>\n",
       "    <tr>\n",
       "      <th>1</th>\n",
       "      <td>0.40</td>\n",
       "      <td>0.827586</td>\n",
       "      <td>0.827586</td>\n",
       "      <td>0.827586</td>\n",
       "    </tr>\n",
       "    <tr>\n",
       "      <th>0</th>\n",
       "      <td>0.35</td>\n",
       "      <td>0.795580</td>\n",
       "      <td>0.765957</td>\n",
       "      <td>0.827586</td>\n",
       "    </tr>\n",
       "  </tbody>\n",
       "</table>\n",
       "</div>"
      ],
      "text/plain": [
       "   Range  F1 Score  Precision    Recall\n",
       "5   0.60  0.860606   0.910256  0.816092\n",
       "4   0.55  0.855422   0.898734  0.816092\n",
       "6   0.65  0.851852   0.920000  0.793103\n",
       "3   0.50  0.847059   0.867470  0.827586\n",
       "2   0.45  0.842105   0.857143  0.827586\n",
       "1   0.40  0.827586   0.827586  0.827586\n",
       "0   0.35  0.795580   0.765957  0.827586"
      ]
     },
     "execution_count": 49,
     "metadata": {},
     "output_type": "execute_result"
    }
   ],
   "source": [
    "rf = RandomForestClassifier(random_state=10)\n",
    "threshold(rf,x_train_sam,x_test,y_train_sam ,y_test)"
   ]
  },
  {
   "cell_type": "code",
   "execution_count": 51,
   "id": "43b46d00",
   "metadata": {},
   "outputs": [
    {
     "data": {
      "text/html": [
       "<style>#sk-container-id-2 {color: black;}#sk-container-id-2 pre{padding: 0;}#sk-container-id-2 div.sk-toggleable {background-color: white;}#sk-container-id-2 label.sk-toggleable__label {cursor: pointer;display: block;width: 100%;margin-bottom: 0;padding: 0.3em;box-sizing: border-box;text-align: center;}#sk-container-id-2 label.sk-toggleable__label-arrow:before {content: \"▸\";float: left;margin-right: 0.25em;color: #696969;}#sk-container-id-2 label.sk-toggleable__label-arrow:hover:before {color: black;}#sk-container-id-2 div.sk-estimator:hover label.sk-toggleable__label-arrow:before {color: black;}#sk-container-id-2 div.sk-toggleable__content {max-height: 0;max-width: 0;overflow: hidden;text-align: left;background-color: #f0f8ff;}#sk-container-id-2 div.sk-toggleable__content pre {margin: 0.2em;color: black;border-radius: 0.25em;background-color: #f0f8ff;}#sk-container-id-2 input.sk-toggleable__control:checked~div.sk-toggleable__content {max-height: 200px;max-width: 100%;overflow: auto;}#sk-container-id-2 input.sk-toggleable__control:checked~label.sk-toggleable__label-arrow:before {content: \"▾\";}#sk-container-id-2 div.sk-estimator input.sk-toggleable__control:checked~label.sk-toggleable__label {background-color: #d4ebff;}#sk-container-id-2 div.sk-label input.sk-toggleable__control:checked~label.sk-toggleable__label {background-color: #d4ebff;}#sk-container-id-2 input.sk-hidden--visually {border: 0;clip: rect(1px 1px 1px 1px);clip: rect(1px, 1px, 1px, 1px);height: 1px;margin: -1px;overflow: hidden;padding: 0;position: absolute;width: 1px;}#sk-container-id-2 div.sk-estimator {font-family: monospace;background-color: #f0f8ff;border: 1px dotted black;border-radius: 0.25em;box-sizing: border-box;margin-bottom: 0.5em;}#sk-container-id-2 div.sk-estimator:hover {background-color: #d4ebff;}#sk-container-id-2 div.sk-parallel-item::after {content: \"\";width: 100%;border-bottom: 1px solid gray;flex-grow: 1;}#sk-container-id-2 div.sk-label:hover label.sk-toggleable__label {background-color: #d4ebff;}#sk-container-id-2 div.sk-serial::before {content: \"\";position: absolute;border-left: 1px solid gray;box-sizing: border-box;top: 0;bottom: 0;left: 50%;z-index: 0;}#sk-container-id-2 div.sk-serial {display: flex;flex-direction: column;align-items: center;background-color: white;padding-right: 0.2em;padding-left: 0.2em;position: relative;}#sk-container-id-2 div.sk-item {position: relative;z-index: 1;}#sk-container-id-2 div.sk-parallel {display: flex;align-items: stretch;justify-content: center;background-color: white;position: relative;}#sk-container-id-2 div.sk-item::before, #sk-container-id-2 div.sk-parallel-item::before {content: \"\";position: absolute;border-left: 1px solid gray;box-sizing: border-box;top: 0;bottom: 0;left: 50%;z-index: -1;}#sk-container-id-2 div.sk-parallel-item {display: flex;flex-direction: column;z-index: 1;position: relative;background-color: white;}#sk-container-id-2 div.sk-parallel-item:first-child::after {align-self: flex-end;width: 50%;}#sk-container-id-2 div.sk-parallel-item:last-child::after {align-self: flex-start;width: 50%;}#sk-container-id-2 div.sk-parallel-item:only-child::after {width: 0;}#sk-container-id-2 div.sk-dashed-wrapped {border: 1px dashed gray;margin: 0 0.4em 0.5em 0.4em;box-sizing: border-box;padding-bottom: 0.4em;background-color: white;}#sk-container-id-2 div.sk-label label {font-family: monospace;font-weight: bold;display: inline-block;line-height: 1.2em;}#sk-container-id-2 div.sk-label-container {text-align: center;}#sk-container-id-2 div.sk-container {/* jupyter's `normalize.less` sets `[hidden] { display: none; }` but bootstrap.min.css set `[hidden] { display: none !important; }` so we also need the `!important` here to be able to override the default hidden behavior on the sphinx rendered scikit-learn.org. See: https://github.com/scikit-learn/scikit-learn/issues/21755 */display: inline-block !important;position: relative;}#sk-container-id-2 div.sk-text-repr-fallback {display: none;}</style><div id=\"sk-container-id-2\" class=\"sk-top-container\"><div class=\"sk-text-repr-fallback\"><pre>RandomForestClassifier(random_state=10)</pre><b>In a Jupyter environment, please rerun this cell to show the HTML representation or trust the notebook. <br />On GitHub, the HTML representation is unable to render, please try loading this page with nbviewer.org.</b></div><div class=\"sk-container\" hidden><div class=\"sk-item\"><div class=\"sk-estimator sk-toggleable\"><input class=\"sk-toggleable__control sk-hidden--visually\" id=\"sk-estimator-id-2\" type=\"checkbox\" checked><label for=\"sk-estimator-id-2\" class=\"sk-toggleable__label sk-toggleable__label-arrow\">RandomForestClassifier</label><div class=\"sk-toggleable__content\"><pre>RandomForestClassifier(random_state=10)</pre></div></div></div></div></div>"
      ],
      "text/plain": [
       "RandomForestClassifier(random_state=10)"
      ]
     },
     "execution_count": 51,
     "metadata": {},
     "output_type": "execute_result"
    }
   ],
   "source": [
    "rf = RandomForestClassifier(random_state=10)\n",
    "rf.fit(x_train_sam,y_train_sam)\n"
   ]
  },
  {
   "cell_type": "code",
   "execution_count": 81,
   "id": "c1daa925",
   "metadata": {},
   "outputs": [],
   "source": [
    "ypred = (rf.predict_proba(x_test)[:, 1] >= 0.30).astype(int)"
   ]
  },
  {
   "cell_type": "code",
   "execution_count": 82,
   "id": "022cb004",
   "metadata": {},
   "outputs": [
    {
     "data": {
      "image/png": "[encoded data removed]",
      "text/plain": [
       "<Figure size 640x480 with 2 Axes>"
      ]
     },
     "metadata": {},
     "output_type": "display_data"
    }
   ],
   "source": [
    "# display confusion matrix\n",
    "plt.style.use('classic')\n",
    "ConfusionMatrixDisplay.from_predictions(y_test,ypred, cmap='bone')\n",
    "plt.show()\n",
    "# 1 in case of fraud and 0 otherwise."
   ]
  },
  {
   "cell_type": "code",
   "execution_count": null,
   "id": "7da78cec",
   "metadata": {},
   "outputs": [],
   "source": []
  },
  {
   "cell_type": "code",
   "execution_count": 84,
   "id": "78750646",
   "metadata": {},
   "outputs": [],
   "source": [
    "ypred = (rf.predict_proba(x_test)[:, 1] >= 0.01).astype(int)"
   ]
  },
  {
   "cell_type": "code",
   "execution_count": 85,
   "id": "322b1601",
   "metadata": {
    "scrolled": false
   },
   "outputs": [
    {
     "data": {
      "image/png": "[encoded data removed]",
      "text/plain": [
       "<Figure size 640x480 with 2 Axes>"
      ]
     },
     "metadata": {},
     "output_type": "display_data"
    }
   ],
   "source": [
    "# display confusion matrix\n",
    "plt.style.use('classic')\n",
    "ConfusionMatrixDisplay.from_predictions(y_test,ypred, cmap='bone')\n",
    "plt.show()\n",
    "# 1 in case of fraud and 0 otherwise."
   ]
  },
  {
   "cell_type": "code",
   "execution_count": null,
   "id": "d6ff973c",
   "metadata": {},
   "outputs": [],
   "source": [
    "# even if we set the threshold as 0.01 there will be 6 frauds being predicted as not a fraud. "
   ]
  },
  {
   "cell_type": "code",
   "execution_count": 83,
   "id": "9a47b2b8",
   "metadata": {
    "scrolled": false
   },
   "outputs": [
    {
     "data": {
      "image/png": "[encoded data removed]",
      "text/plain": [
       "<Figure size 640x480 with 1 Axes>"
      ]
     },
     "metadata": {},
     "output_type": "display_data"
    }
   ],
   "source": [
    "# auc-roc curve \n",
    "fpr, tpr, thresholds = roc_curve(y_test, y_pred_prob)\n",
    "\n",
    "# plot the ROC curve\n",
    "plt.plot(fpr, tpr)\n",
    "\n",
    "# set limits for x and y axes\n",
    "plt.xlim([-0.1, 1.1])\n",
    "plt.ylim([-0.1, 1.1])\n",
    "\n",
    "# plot the straight line showing worst prediction for the model\n",
    "plt.plot([0, 1], [0, 1],'r--')\n",
    "\n",
    "# add plot and axes labels\n",
    "# set text size using 'fontsize'\n",
    "plt.title('ROC curve Credit card fraud detection', fontsize = 15)\n",
    "plt.xlabel('False positive rate (1-Specificity)', fontsize = 15)\n",
    "plt.ylabel('True positive rate (Sensitivity)', fontsize = 15)\n",
    "\n",
    "# add the AUC score to the plot\n",
    "# 'x' and 'y' gives position of the text\n",
    "# 's' is the text \n",
    "# use round() to round-off the AUC score upto 4 digits\n",
    "plt.text(x = 0.02, y = 0.9, s = ('AUC Score:', round(roc_auc_score(y_test, y_pred_prob),4)))\n",
    "                               \n",
    "# plot the grid\n",
    "plt.grid(True)\n"
   ]
  },
  {
   "cell_type": "code",
   "execution_count": null,
   "id": "e6c2cac0",
   "metadata": {},
   "outputs": [],
   "source": []
  },
  {
   "cell_type": "code",
   "execution_count": null,
   "id": "fe6bf38b",
   "metadata": {},
   "outputs": [],
   "source": []
  },
  {
   "cell_type": "code",
   "execution_count": null,
   "id": "8df6bc3c",
   "metadata": {},
   "outputs": [],
   "source": []
  },
  {
   "cell_type": "markdown",
   "id": "4a71cc66",
   "metadata": {},
   "source": [
    "# Conclusion"
   ]
  },
  {
   "cell_type": "markdown",
   "id": "fb371a15",
   "metadata": {},
   "source": [
    "The given dataset consisted of data which was treated with PCA doesnt give any ideas about the actual features of credit card fraud detection. \n",
    "\n",
    "The predictability of the model is low as the data is already treated using PCA. \n",
    "\n",
    "Even though the randomforest model built can predict the credit card fraud with an accuracy of 99%, the credit fraud which can bcannot be predicted is high with this models. "
   ]
  },
  {
   "cell_type": "code",
   "execution_count": null,
   "id": "7d35d005",
   "metadata": {},
   "outputs": [],
   "source": []
  },
  {
   "cell_type": "markdown",
   "id": "3a31e787",
   "metadata": {},
   "source": [
    "#### citations \n",
    "\n",
    "Andrea Dal Pozzolo, Olivier Caelen, Reid A. Johnson and Gianluca Bontempi. Calibrating Probability with Undersampling for Unbalanced Classification. In Symposium on Computational Intelligence and Data Mining (CIDM), IEEE, 2015\n",
    "\n",
    "Dal Pozzolo, Andrea; Caelen, Olivier; Le Borgne, Yann-Ael; Waterschoot, Serge; Bontempi, Gianluca. Learned lessons in credit card fraud detection from a practitioner perspective, Expert systems with applications,41,10,4915-4928,2014, Pergamon\n",
    "\n",
    "Dal Pozzolo, Andrea; Boracchi, Giacomo; Caelen, Olivier; Alippi, Cesare; Bontempi, Gianluca. Credit card fraud detection: a realistic modeling and a novel learning strategy, IEEE transactions on neural networks and learning systems,29,8,3784-3797,2018,IEEE\n",
    "\n",
    "Dal Pozzolo, Andrea Adaptive Machine learning for credit card fraud detection ULB MLG PhD thesis (supervised by G. Bontempi)\n",
    "\n",
    "Carcillo, Fabrizio; Dal Pozzolo, Andrea; Le Borgne, Yann-Aël; Caelen, Olivier; Mazzer, Yannis; Bontempi, Gianluca. Scarff: a scalable framework for streaming credit card fraud detection with Spark, Information fusion,41, 182-194,2018,Elsevier\n",
    "\n",
    "Carcillo, Fabrizio; Le Borgne, Yann-Aël; Caelen, Olivier; Bontempi, Gianluca. Streaming active learning strategies for real-life credit card fraud detection: assessment and visualization, International Journal of Data Science and Analytics, 5,4,285-300,2018,Springer International Publishing\n",
    "\n",
    "Bertrand Lebichot, Yann-Aël Le Borgne, Liyun He, Frederic Oblé, Gianluca Bontempi Deep-Learning Domain Adaptation Techniques for Credit Cards Fraud Detection, INNSBDDL 2019: Recent Advances in Big Data and Deep Learning, pp 78-88, 2019\n",
    "\n",
    "Fabrizio Carcillo, Yann-Aël Le Borgne, Olivier Caelen, Frederic Oblé, Gianluca Bontempi Combining Unsupervised and Supervised Learning in Credit Card Fraud Detection Information Sciences, 2019\n",
    "\n",
    "Yann-Aël Le Borgne, Gianluca Bontempi Reproducible machine Learning for Credit Card Fraud Detection - Practical Handbook\n",
    "\n",
    "Bertrand Lebichot, Gianmarco Paldino, Wissam Siblini, Liyun He, Frederic Oblé, Gianluca Bontempi Incremental learning strategies for credit cards fraud detection, IInternational Journal of Data Science and Analytics"
   ]
  },
  {
   "cell_type": "code",
   "execution_count": null,
   "id": "d4186c97",
   "metadata": {},
   "outputs": [],
   "source": []
  },
  {
   "cell_type": "code",
   "execution_count": null,
   "id": "12003cee",
   "metadata": {},
   "outputs": [],
   "source": []
  }
 ],
 "metadata": {
  "kernelspec": {
   "display_name": "Python 3 (ipykernel)",
   "language": "python",
   "name": "python3"
  },
  "language_info": {
   "codemirror_mode": {
    "name": "ipython",
    "version": 3
   },
   "file_extension": ".py",
   "mimetype": "text/x-python",
   "name": "python",
   "nbconvert_exporter": "python",
   "pygments_lexer": "ipython3",
   "version": "3.11.5"
  }
 },
 "nbformat": 4,
 "nbformat_minor": 5
}
